{
 "cells": [
  {
   "cell_type": "markdown",
   "id": "92280883",
   "metadata": {},
   "source": [
    "# emodpy-tbhiv simple example\n",
    "This notebook provides a example of using emodpy-tbhiv to commission an EMOD (DTK) simulation of TB transmission on COMPS. It uses publicly available demographics data from Malawi. First, we will import all required packages.\n",
    "\n",
    "If you are unfamiliar with Jupyter notebooks, [Codecademy](https://www.codecademy.com/articles/getting-started-with-jupyter) has a Getting started tutorial that walks through the basics of using Jupyter to run code on the web. The [Jupyter docs](https://jupyter.org/documentation) are also a great resource for more detailed information.\n",
    "\n",
    "This notebook is designed to be executed sequentially. Once you get to the end, depending on how much of the functionality you've been able to internalize, you'll see how you can go back and make code changes and execute code blocks selectively."
   ]
  },
  {
   "cell_type": "markdown",
   "id": "ee6012aa",
   "metadata": {},
   "source": [
    "<h1> EMOD TBHIV Quickstart </h1>"
   ]
  },
  {
   "cell_type": "markdown",
   "id": "3b6c0a18",
   "metadata": {},
   "source": [
    "<b>NOTE:</b> In order to avoid execution collitions between users, please run step below. Also, making a copy of this notebook under the same directory is suggested."
   ]
  },
  {
   "cell_type": "code",
   "execution_count": 1,
   "id": "6fabbed2",
   "metadata": {},
   "outputs": [],
   "source": [
    "import workspace"
   ]
  },
  {
   "cell_type": "markdown",
   "id": "a15feb76",
   "metadata": {},
   "source": [
    "# Libraries and scripts needed\n",
    "Below, you will find the list of all the libraries and scripts that will be needed along this sample."
   ]
  },
  {
   "cell_type": "code",
   "execution_count": 4,
   "id": "1aed74dc",
   "metadata": {},
   "outputs": [
    {
     "name": "stdout",
     "output_type": "stream",
     "text": [
      "INI File Used: /home/idmuser/tbhiv/SA/idmtools.ini\n"
     ]
    }
   ],
   "source": [
    "import pathlib # for a join\n",
    "import shutil\n",
    "import os\n",
    "from functools import partial  # for setting Run_Number.\n",
    "\n",
    "# idmtools ...\n",
    "from idmtools.assets import Asset, AssetCollection  #\n",
    "from idmtools.builders import SimulationBuilder\n",
    "from idmtools.core.platform_factory import Platform\n",
    "from idmtools.entities.experiment import Experiment\n",
    "from idmtools_models.templated_script_task import get_script_wrapper_unix_task\n",
    "\n",
    "# emodpy\n",
    "from emodpy.emod_task import EMODTask\n",
    "import emodpy.emod_task as emod_task\n",
    "from emodpy_tbhiv.reporters.plugin import Report_TBHIV_ByAge\n",
    "\n",
    "# local files for this experiment.\n",
    "import params\n",
    "import set_config\n",
    "import manifest\n",
    "import warnings\n",
    "warnings.simplefilter(action='ignore', category=FutureWarning)"
   ]
  },
  {
   "cell_type": "markdown",
   "id": "6ca9b8db",
   "metadata": {},
   "source": [
    "# The process:\n",
    "\n",
    "EMOD tasks require a set of functions that are passed as parameters. In the next sections, we will be creating those functions, running the task and plotting the results and sweeping some parameters:\n",
    "\n",
    "1. Function: Config Builder\n",
    "2. Function: Campaing Builder\n",
    "3. Function: Demographics Builder\n",
    "\n",
    "Next:\n",
    "\n",
    "- Reporter Setup, \n",
    "- Platform Setup and Kernel import\n",
    "- Task creation\n",
    "- Simulation creation\n",
    "- Experiment\n",
    "- Plot"
   ]
  },
  {
   "cell_type": "markdown",
   "id": "8f8bd2d7",
   "metadata": {},
   "source": [
    "## 1. Function: Config Builder\n",
    "Set everything up... Let's start with config params. Notice that we are putting these each in functions. These functions get passed to the EMODTask creator later on."
   ]
  },
  {
   "cell_type": "code",
   "execution_count": 7,
   "id": "400c4646",
   "metadata": {},
   "outputs": [],
   "source": [
    "def set_param_fn(config): \n",
    "    \"\"\"\n",
    "    This function is a callback that is passed to emod-api.config to set parameters The Right Way.\n",
    "    \"\"\"\n",
    "    config = set_config.set_config( config )\n",
    "    config.parameters.x_Other_Mortality =  0.34\n",
    "    config.parameters.x_Birth =  1.43\n",
    "    config.parameters.TB_MDR_Fitness_Multiplier =  1.0 #no fitness cost worst case\n",
    "    config.parameters.Simulation_Duration =  3650\n",
    "    config.parameters.TB_Smear_Negative_Infectivity_Multiplier = 0.34604\n",
    "    config.parameters.TB_Presymptomatic_Rate = 0.01165\n",
    "    config.parameters.TB_Active_Presymptomatic_Infectivity_Multiplier = 0.34604*0.3318\n",
    "    config.parameters.TB_Slow_Progressor_Rate =  0.007/365.0\n",
    "    config.parameters.pop( \"Serialized_Population_Filenames\" )\n",
    "    config.parameters.Report_Event_Recorder_Events = [\"TBActivationPresymptomatic\",\"Hello\",\"Oh_No_I_Have_HIV\",\"Yay\",\"ArtDistributed\"]\n",
    "    config.parameters[\"logLevel_Individual\"] = \"INFO\"\n",
    "\n",
    "    return config"
   ]
  },
  {
   "cell_type": "markdown",
   "id": "c1a9256d",
   "metadata": {},
   "source": [
    "## 2. Function: Campaign Builder\n",
    "Now we add a campaign builder function."
   ]
  },
  {
   "cell_type": "code",
   "execution_count": 14,
   "id": "e9aeccf6",
   "metadata": {},
   "outputs": [],
   "source": [
    "def build_camp():\n",
    "    \"\"\"\n",
    "    Import all campaign builder API functions, from emod_api and emodpy_tbhiv...\n",
    "    \"\"\"\n",
    "    import emod_api.campaign as camp\n",
    "    import emod_api.interventions.utils as utils\n",
    "    import emodpy_tbhiv as tbhiv\n",
    "    import emod_api.interventions.outbreak as ob\n",
    "    import emodpy_tbhiv.interventions.art as art\n",
    "    import emodpy_tbhiv.interventions.bcg as bcg\n",
    "    import emodpy_tbhiv.interventions.active_diagnostic as ad\n",
    "    import emodpy_tbhiv.interventions.hiv_diag as hd\n",
    "    from emodpy_tbhiv.interventions import purge_campaign_event\n",
    "\n",
    "    # Seed the outbreak\n",
    "    camp.set_schema( manifest.schema_file ) # use this once we update our emod-api\n",
    "    # camp.schema_path = manifest.schema_file # old way\n",
    "    seed = ob.seed_by_coverage( camp, 40, 0.5 )\n",
    "    camp.add( seed )\n",
    "    purge_campaign_event( seed )\n",
    "\n",
    "    # Create our campaign with interventions. Some are scheduled...\n",
    "    camp.add( art.ART( camp, [\"TBActivationPresymptomatic\"], start_day=10 ) )\n",
    "    camp.add( bcg.BCG( camp, [\"TBActivationPresymptomatic\"], start_day=10 ) )\n",
    "    \n",
    "    # And others are triggered\n",
    "    camp.add( ad.ActiveDiagnostic( camp, [\"TBActivationPresymptomatic\"], start_day=1, pos_event=\"Hello\" ) )\n",
    "    camp.add( hd.HIVDiagnostic( camp, [\"TBActivationPresymptomatic\"], start_day=1, pos_event=\"Oh_No_I_Have_HIV\", neg_event=\"Yay\" ) )\n",
    "    \n",
    "    return camp"
   ]
  },
  {
   "cell_type": "markdown",
   "id": "ae16e663",
   "metadata": {},
   "source": [
    "## 3. Function: Demographics Builder\n",
    "With the configuration and campaign taken care of, let's move on to the demographics file. We're going to write a function for that too, and create a simple single node demographics file with 10,000 people, and the mortality will be based on data, and even infers the natural mortality from total mortality (including HIV mortality), using the data files we downloaded earlier."
   ]
  },
  {
   "cell_type": "code",
   "execution_count": 8,
   "id": "1362ece2",
   "metadata": {},
   "outputs": [],
   "source": [
    "def build_demog():\n",
    "    \"\"\"\n",
    "    Build a demographics input file for the DTK. This is going to be a single node, with 10,000 individuals\n",
    "    and with the fertility, age structure, and mortality set up using TBHIV defaults (not covered here). \n",
    "    The male and female input files are historical all-cause mortality so that we can use some math to back\n",
    "    out natural mortality from HIV mortality.\n",
    "    \"\"\"\n",
    "    import emodpy_tbhiv.demographics.TBHIVDemographics as Demographics # OK to call into emod-api\n",
    "\n",
    "    demog = Demographics.fromData( pop=10000, filename_male=manifest.males, filename_female=manifest.females )\n",
    "    \n",
    "    return demog"
   ]
  },
  {
   "cell_type": "markdown",
   "id": "78edb5e6",
   "metadata": {},
   "source": [
    "## Reporter\n",
    "Finally let's set up our reporter. This doesn't go in a function."
   ]
  },
  {
   "cell_type": "code",
   "execution_count": 9,
   "id": "0ba27bc8",
   "metadata": {},
   "outputs": [],
   "source": [
    "from emodpy_tbhiv.reporters.plugin import Report_TBHIV_ByAge\n",
    "report = Report_TBHIV_ByAge()\n",
    "report.configure_report(200, 0, 0, 200, [\"HappyBirthday\",\"Hello\",\"Oh_No_I_Have_HIV\", \"Yay\", \"ArtDistributed\", \"BcgDistributed\"])    \n",
    "report.asset_dir = manifest.plugins_folder"
   ]
  },
  {
   "cell_type": "markdown",
   "id": "78d4891d",
   "metadata": {},
   "source": [
    "## Platform\n",
    "With our data input files taken care of, it's time to create the Platform, Task, Simulation, and Experiment. First the platform..."
   ]
  },
  {
   "cell_type": "code",
   "execution_count": 10,
   "id": "3ec1e48a",
   "metadata": {},
   "outputs": [
    {
     "name": "stdout",
     "output_type": "stream",
     "text": [
      "\n",
      "[SLURM]\n",
      "{\n",
      "   \"type\": \"COMPS\",\n",
      "   \"endpoint\": \"https://comps.idmod.org\",\n",
      "   \"environment\": \"Calculon\",\n",
      "   \"priority\": \"Highest\",\n",
      "   \"simulation_root\": \"$COMPS_PATH(USER)\\\\output\",\n",
      "   \"num_retries\": \"0\",\n",
      "   \"node_group\": \"idm_48cores\",\n",
      "   \"num_cores\": \"1\",\n",
      "   \"exclusive\": \"False\"\n",
      "}\n"
     ]
    }
   ],
   "source": [
    "# Create a 'platform'. This is our compute target. We are going to run these simulations on the IDM Calculon cluster\n",
    "# via the COMPS scheduler. This step will prompt for COMPS credentials in the browser.\n",
    "# Show how to dynamically set priority and node_group\n",
    "platform = Platform(\"SLURM\", node_group=\"idm_48cores\", priority=\"Highest\")"
   ]
  },
  {
   "cell_type": "markdown",
   "id": "777791bd",
   "metadata": {},
   "source": [
    "## Kernel (exe file)\n",
    "Before we create the task, we want to pull down the model binary and supporting files."
   ]
  },
  {
   "cell_type": "code",
   "execution_count": 11,
   "id": "5e31b36e",
   "metadata": {},
   "outputs": [],
   "source": [
    "import emod_tbhiv.bootstrap as dtk\n",
    "where_to_put_it = pathlib.Path(manifest.eradication_path).parent\n",
    "dtk.setup( where_to_put_it )"
   ]
  },
  {
   "cell_type": "markdown",
   "id": "d47d012a",
   "metadata": {},
   "source": [
    "# Task Creation\n",
    "The EMODTask method signature is composed of the next arguments: \n",
    "\n",
    "    - eradication_path:  manifest.eradication_path (location of the eradication.exe file)\n",
    "    - campaign_builder:  build_camp function defined above.\n",
    "    - schema_path:       manifest.schema_file\n",
    "    - param_custom_cb:   set_param_fn\n",
    "    - ep4_custom_cb:     ep4_fn\n",
    "    - demog_builder:     build_demog function defined above.\n",
    "    - plugin_report:     report\n",
    "    - config_path:       output path for generated config.json"
   ]
  },
  {
   "cell_type": "code",
   "execution_count": 12,
   "id": "090e7c06",
   "metadata": {},
   "outputs": [],
   "source": [
    "# ep4 stands for Embedded Python Pre- And Post-Processing. These are generally optional scripts for doing data\n",
    "# manipulation just before or just after the DTK runs, using Python, because often thet is much easier.\n",
    "def ep4_fn(task):\n",
    "    task = emod_task.add_ep4_from_path(task, manifest.ep4_dir)\n",
    "    return task"
   ]
  },
  {
   "cell_type": "code",
   "execution_count": 15,
   "id": "7150dd0b",
   "metadata": {},
   "outputs": [
    {
     "name": "stdout",
     "output_type": "stream",
     "text": [
      "Wrote 'default_config.json' file.\n",
      "DEBUG: write_config_from_default_and_params invoked with default_config.json, <function set_param_fn at 0x7f1fed7aa598>.\n",
      "DEBUG: Calling load_default_config_as_rod.\n",
      "DEBUG: Calling set_fn.\n",
      "Generating demographics file demographics.json.\n",
      "Campaign is publishing the following events:\n",
      "Hello\n",
      "ArtDistributed\n",
      "Oh_No_I_Have_HIV\n",
      "BcgDistributed\n",
      "Yay\n",
      "Campaign is listening to the following events:\n",
      "TBActivationPresymptomatic\n",
      "Campaign is IGNORING the following events:\n",
      "ArtDistributed\n",
      "Oh_No_I_Have_HIV\n",
      "Hello\n",
      "BcgDistributed\n",
      "Yay\n",
      "Campaign is LISTENING to the following non-campaign events:\n",
      "TBActivationPresymptomatic\n",
      "Campaign builder save returned campaign.json as file.\n",
      "Found adhoc events in campaign. Needs some special processing behind the scenes.\n"
     ]
    }
   ],
   "source": [
    "task = EMODTask.from_default2(\n",
    "        eradication_path=manifest.eradication_path,\n",
    "        campaign_builder=build_camp,\n",
    "        schema_path=manifest.schema_file,\n",
    "        param_custom_cb=set_param_fn,\n",
    "        ep4_custom_cb=ep4_fn,\n",
    "        demog_builder=build_demog,\n",
    "        plugin_report=report,\n",
    "        config_path=\"my_config.json\"\n",
    "    )\n",
    "\n",
    "# Use a Singularity Image File to run 'inside of' on COMPS\n",
    "# Singularity is a container-technology like docker that lets us run inside a completely personalied run-time environment.\n",
    "task.set_sif( manifest.sif )"
   ]
  },
  {
   "cell_type": "markdown",
   "id": "d2a8d1b7",
   "metadata": {},
   "source": [
    "## Simulation setup\n",
    "Next, set up the Simulation, which includes the sweep over Run Number..."
   ]
  },
  {
   "cell_type": "code",
   "execution_count": 16,
   "id": "076fd524",
   "metadata": {},
   "outputs": [],
   "source": [
    "def update_sim_random_seed(simulation, value):\n",
    "    simulation.task.config.parameters.Run_Number = value\n",
    "    return {\"Run_Number\": value}"
   ]
  },
  {
   "cell_type": "markdown",
   "id": "30159e0a",
   "metadata": {},
   "source": [
    "## Simulation sweep with builder"
   ]
  },
  {
   "cell_type": "code",
   "execution_count": 17,
   "id": "7db3c9d6",
   "metadata": {},
   "outputs": [],
   "source": [
    "# Create simulation sweep with builder\n",
    "builder = SimulationBuilder()\n",
    "builder.add_sweep_definition( update_sim_random_seed, range(params.nSims) )"
   ]
  },
  {
   "cell_type": "markdown",
   "id": "0a6b96cd",
   "metadata": {},
   "source": [
    "### Run the Experiment"
   ]
  },
  {
   "cell_type": "code",
   "execution_count": 18,
   "id": "669bbf4a",
   "metadata": {},
   "outputs": [
    {
     "name": "stdout",
     "output_type": "stream",
     "text": [
      "Removing unneeded asset: <Asset: reporter_plugins/libreporteventcounter.so from /home/idmuser/tbhiv/SA/download/reporter_plugins/libreporteventcounter.so>.\n",
      "\n",
      "The created experiment can be viewed at https://comps.idmod.org/#explore/Simulations?filters=ExperimentId=e1b0b84f-584d-ec11-a9f1-9440c9be2c51\n",
      "Simulations are still being created\n",
      "\n"
     ]
    },
    {
     "name": "stderr",
     "output_type": "stream",
     "text": [
      "Creating Simulations on Comps:   0%|          | 0/2 [00:00<?, ?simulation/s]        "
     ]
    },
    {
     "name": "stdout",
     "output_type": "stream",
     "text": [
      "WARNING: During schema-based param purge, logLevel_Individual not in schema.\n",
      "WARNING: During schema-based param purge, Event_Map not in schema.\n",
      "WARNING: During schema-based param purge, logLevel_Individual not in schema.\n",
      "WARNING: During schema-based param purge, Event_Map not in schema.\n"
     ]
    },
    {
     "name": "stderr",
     "output_type": "stream",
     "text": [
      "Creating Simulations on Comps: 100%|██████████| 2/2 [00:00<00:00,  4.00simulation/s]\n",
      "Waiting on Experiment TBHIV South Africa Sample Experiment to Finish running: 100%|██████████| 2/2 [00:26<00:00, 13.12s/simulation]"
     ]
    },
    {
     "name": "stdout",
     "output_type": "stream",
     "text": [
      "Experiment e1b0b84f-584d-ec11-a9f1-9440c9be2c51 succeeded.\n",
      "e1b0b84f584dec11a9f19440c9be2c51\n"
     ]
    },
    {
     "name": "stderr",
     "output_type": "stream",
     "text": [
      "\n"
     ]
    }
   ],
   "source": [
    "def run_test():\n",
    "    \n",
    "    # create experiment from builder\n",
    "    experiment  = Experiment.from_builder(builder, task, name=params.exp_name) \n",
    "\n",
    "    # The last step is to call run() on the ExperimentManager to run the simulations.\n",
    "    experiment.run(wait_until_done=True, platform=platform)\n",
    "\n",
    "    # Check result\n",
    "    if not experiment.succeeded:\n",
    "        print(f\"Experiment {experiment.uid} failed.\\n\")\n",
    "        exit()\n",
    "\n",
    "    print(f\"Experiment {experiment.uid} succeeded.\")\n",
    "\n",
    "    # Save experiment id to file\n",
    "    with open(\"COMPS_ID\", \"w\") as fd:\n",
    "        fd.write(experiment.uid.hex)\n",
    "    print(experiment.uid.hex)\n",
    "    return experiment.uid\n",
    "\n",
    "# Run the experiment and saves the experiment id for later use.\n",
    "experiment_id = run_test()"
   ]
  },
  {
   "cell_type": "markdown",
   "id": "bf78c168",
   "metadata": {},
   "source": [
    "\n",
    "### Experiment results download and plot\n",
    "Let's show some output."
   ]
  },
  {
   "cell_type": "code",
   "execution_count": 19,
   "id": "d3833926",
   "metadata": {},
   "outputs": [
    {
     "name": "stdout",
     "output_type": "stream",
     "text": [
      "\n",
      "[Calculon]\n",
      "{\n",
      "   \"endpoint\": \"https://comps.idmod.org\",\n",
      "   \"environment\": \"Calculon\"\n",
      "}\n",
      "Attempting to download ['output/InsetChart.json'] for experiment e1b0b84f-584d-ec11-a9f1-9440c9be2c51 into e1b0b84f-584d-ec11-a9f1-9440c9be2c51.\n",
      "Creating Watcher\n",
      "\n",
      "The running WorkItem can be viewed at https://comps.idmod.org/#explore/WorkItems?filters=Id=eda09de6-584d-ec11-a9f1-9440c9be2c51\n",
      "\n"
     ]
    },
    {
     "name": "stderr",
     "output_type": "stream",
     "text": [
      "Waiting on WorkItem Filter outputs for Experiment e1b0b84f-584d-ec11-a9f1-9440c9be2c51: 100%|██████████| 1/1 [00:15<00:00, 15.20s/workitem]\n",
      "Downloading Files: 100%|██████████| 15.3k/15.3k [00:00<00:00, 375kB/s]"
     ]
    },
    {
     "name": "stdout",
     "output_type": "stream",
     "text": [
      "Removing e1b0b84f-584d-ec11-a9f1-9440c9be2c51/output.zip\n",
      "Deleting workitem eda09de6-584d-ec11-a9f1-9440c9be2c51\n"
     ]
    },
    {
     "name": "stderr",
     "output_type": "stream",
     "text": [
      "\n"
     ]
    },
    {
     "data": {
      "text/plain": [
       "[<matplotlib.lines.Line2D at 0x7f1fc3b75e80>]"
      ]
     },
     "execution_count": 19,
     "metadata": {},
     "output_type": "execute_result"
    },
    {
     "data": {
      "image/png": "[encoded data removed]",
      "text/plain": [
       "<Figure size 432x288 with 1 Axes>"
      ]
     },
     "metadata": {
      "needs_background": "light"
     },
     "output_type": "display_data"
    }
   ],
   "source": [
    "from downloader import download as dl\n",
    "manifest.output_dl_folder = str(experiment_id)     # With the experiment id from previous section, we download the output files.\n",
    "dl(manifest.output_dl_folder)\n",
    "subdir = os.listdir(manifest.output_dl_folder)[-1] # get the most recent\n",
    "\n",
    "import json\n",
    "tb_prev = json.load( open( manifest.output_dl_folder + \"/\" + subdir + \"/\" + \"output/InsetChart.json\" ) )[\"Channels\"][\"Infected\"][\"Data\"]\n",
    "\n",
    "import matplotlib.pyplot as plt\n",
    "plt.plot( tb_prev )"
   ]
  },
  {
   "cell_type": "markdown",
   "id": "818d213d",
   "metadata": {},
   "source": [
    "\n",
    "## Simulation sweep with builder \n",
    "We could sweep over a model value not just random number seed. Below we sweep over 10 values of Base_Infectivity_Constant."
   ]
  },
  {
   "cell_type": "code",
   "execution_count": 20,
   "id": "04743fa0",
   "metadata": {},
   "outputs": [
    {
     "name": "stdout",
     "output_type": "stream",
     "text": [
      "\n",
      "The created experiment can be viewed at https://comps.idmod.org/#explore/Simulations?filters=ExperimentId=1746ae0e-5a4d-ec11-a9f1-9440c9be2c51\n",
      "Simulations are still being created\n",
      "\n"
     ]
    },
    {
     "name": "stderr",
     "output_type": "stream",
     "text": [
      "Creating Simulations on Comps:   0%|          | 0/10 [00:00<?, ?simulation/s]          "
     ]
    },
    {
     "name": "stdout",
     "output_type": "stream",
     "text": [
      "WARNING: During schema-based param purge, logLevel_Individual not in schema.\n",
      "WARNING: During schema-based param purge, Event_Map not in schema.\n",
      "WARNING: During schema-based param purge, logLevel_Individual not in schema.\n",
      "WARNING: During schema-based param purge, Event_Map not in schema.\n",
      "WARNING: During schema-based param purge, logLevel_Individual not in schema.\n",
      "WARNING: During schema-based param purge, Event_Map not in schema.\n",
      "WARNING: During schema-based param purge, logLevel_Individual not in schema.\n",
      "WARNING: During schema-based param purge, Event_Map not in schema.\n",
      "WARNING: During schema-based param purge, logLevel_Individual not in schema.\n",
      "WARNING: During schema-based param purge, Event_Map not in schema.\n",
      "WARNING: During schema-based param purge, logLevel_Individual not in schema.\n",
      "WARNING: During schema-based param purge, Event_Map not in schema.\n",
      "WARNING: During schema-based param purge, logLevel_Individual not in schema.\n",
      "WARNING: During schema-based param purge, Event_Map not in schema.\n",
      "WARNING: During schema-based param purge, logLevel_Individual not in schema.\n",
      "WARNING: During schema-based param purge, Event_Map not in schema.\n",
      "WARNING: During schema-based param purge, logLevel_Individual not in schema.\n",
      "WARNING: During schema-based param purge, Event_Map not in schema.\n",
      "WARNING: During schema-based param purge, logLevel_Individual not in schema.\n",
      "WARNING: During schema-based param purge, Event_Map not in schema.\n"
     ]
    },
    {
     "name": "stderr",
     "output_type": "stream",
     "text": [
      "Creating Simulations on Comps: 100%|██████████| 10/10 [00:00<00:00, 21.41simulation/s]\n",
      "Waiting on Experiment TBHIV South Africa Sample Experiment to Finish running: 100%|██████████| 10/10 [00:36<00:00,  3.65s/simulation]"
     ]
    },
    {
     "name": "stdout",
     "output_type": "stream",
     "text": [
      "Experiment 1746ae0e-5a4d-ec11-a9f1-9440c9be2c51 succeeded.\n",
      "1746ae0e5a4dec11a9f19440c9be2c51\n"
     ]
    },
    {
     "name": "stderr",
     "output_type": "stream",
     "text": [
      "\n"
     ]
    }
   ],
   "source": [
    "def update_sim_bic(simulation, value):\n",
    "    simulation.task.config.parameters.Base_Infectivity_Constant = value*0.1\n",
    "    return {\"Base_Infectivity\": value*0.1}\n",
    "\n",
    "# Create simulation sweep with builder\n",
    "builder = SimulationBuilder()\n",
    "builder.add_sweep_definition( update_sim_bic, range(10) )\n",
    "\n",
    "experiment_id = run_test()"
   ]
  },
  {
   "cell_type": "markdown",
   "id": "914bf8f0",
   "metadata": {},
   "source": [
    "### Download the results"
   ]
  },
  {
   "cell_type": "code",
   "execution_count": 21,
   "id": "314e6c5b",
   "metadata": {},
   "outputs": [
    {
     "name": "stdout",
     "output_type": "stream",
     "text": [
      "\n",
      "[Calculon]\n",
      "{\n",
      "   \"endpoint\": \"https://comps.idmod.org\",\n",
      "   \"environment\": \"Calculon\"\n",
      "}\n",
      "Attempting to download ['output/InsetChart.json'] for experiment 1746ae0e-5a4d-ec11-a9f1-9440c9be2c51 into 1746ae0e-5a4d-ec11-a9f1-9440c9be2c51.\n",
      "Creating Watcher\n",
      "\n",
      "The running WorkItem can be viewed at https://comps.idmod.org/#explore/WorkItems?filters=Id=c2dbb225-5a4d-ec11-a9f1-9440c9be2c51\n",
      "\n"
     ]
    },
    {
     "name": "stderr",
     "output_type": "stream",
     "text": [
      "Waiting on WorkItem Filter outputs for Experiment 1746ae0e-5a4d-ec11-a9f1-9440c9be2c51: 100%|██████████| 1/1 [00:05<00:00,  5.07s/workitem]\n",
      "Downloading Files: 100%|██████████| 69.3k/69.3k [00:00<00:00, 1.61MB/s]"
     ]
    },
    {
     "name": "stdout",
     "output_type": "stream",
     "text": [
      "Removing 1746ae0e-5a4d-ec11-a9f1-9440c9be2c51/output.zip\n",
      "Deleting workitem c2dbb225-5a4d-ec11-a9f1-9440c9be2c51\n"
     ]
    },
    {
     "name": "stderr",
     "output_type": "stream",
     "text": [
      "\n"
     ]
    }
   ],
   "source": [
    "from downloader import download as dl\n",
    "manifest.output_dl_folder = str(experiment_id)\n",
    "dl(manifest.output_dl_folder)"
   ]
  },
  {
   "cell_type": "markdown",
   "id": "8e54edf3",
   "metadata": {},
   "source": [
    "### Plot your data"
   ]
  },
  {
   "cell_type": "code",
   "execution_count": 22,
   "id": "797e12bb",
   "metadata": {},
   "outputs": [
    {
     "name": "stdout",
     "output_type": "stream",
     "text": [
      "\n",
      "[Calculon]\n",
      "{\n",
      "   \"endpoint\": \"https://comps.idmod.org\",\n",
      "   \"environment\": \"Calculon\"\n",
      "}\n",
      "Attempting to download ['output/InsetChart.json'] for experiment 1746ae0e-5a4d-ec11-a9f1-9440c9be2c51 into 1746ae0e-5a4d-ec11-a9f1-9440c9be2c51.\n",
      "Creating Watcher\n",
      "\n",
      "The running WorkItem can be viewed at https://comps.idmod.org/#explore/WorkItems?filters=Id=8adcb225-5a4d-ec11-a9f1-9440c9be2c51\n",
      "\n"
     ]
    },
    {
     "name": "stderr",
     "output_type": "stream",
     "text": [
      "Waiting on WorkItem Filter outputs for Experiment 1746ae0e-5a4d-ec11-a9f1-9440c9be2c51: 100%|██████████| 1/1 [00:10<00:00, 10.13s/workitem]\n",
      "Downloading Files: 100%|██████████| 69.3k/69.3k [00:00<00:00, 1.70MB/s]"
     ]
    },
    {
     "name": "stdout",
     "output_type": "stream",
     "text": [
      "Removing 1746ae0e-5a4d-ec11-a9f1-9440c9be2c51/output.zip\n",
      "Deleting workitem 8adcb225-5a4d-ec11-a9f1-9440c9be2c51\n"
     ]
    },
    {
     "name": "stderr",
     "output_type": "stream",
     "text": [
      "\n"
     ]
    },
    {
     "data": {
      "image/png": "[encoded data removed]",
      "text/plain": [
       "<Figure size 432x288 with 1 Axes>"
      ]
     },
     "metadata": {
      "needs_background": "light"
     },
     "output_type": "display_data"
    }
   ],
   "source": [
    "import json\n",
    "import matplotlib.pyplot as plt\n",
    "\n",
    "manifest.output_dl_folder = str(experiment_id)\n",
    "dl(manifest.output_dl_folder)\n",
    "sims = os.listdir(manifest.output_dl_folder)\n",
    "prevs = []\n",
    "for sim in sims:\n",
    "    tb_prev = json.load( open( manifest.output_dl_folder + \"/\" + sim + \"/\" + \"output/InsetChart.json\" ) )[\"Channels\"][\"Infected\"][\"Data\"]\n",
    "    prevs.append( tb_prev )\n",
    "    plt.plot( tb_prev )"
   ]
  },
  {
   "cell_type": "markdown",
   "id": "f12a9fc4",
   "metadata": {},
   "source": [
    "Now let's sweep over percentage of fast progressors..."
   ]
  },
  {
   "cell_type": "code",
   "execution_count": 23,
   "id": "118e2408",
   "metadata": {},
   "outputs": [
    {
     "name": "stdout",
     "output_type": "stream",
     "text": [
      "\n",
      "The created experiment can be viewed at https://comps.idmod.org/#explore/Simulations?filters=ExperimentId=0549c02b-5a4d-ec11-a9f1-9440c9be2c51\n",
      "Simulations are still being created\n",
      "\n"
     ]
    },
    {
     "name": "stderr",
     "output_type": "stream",
     "text": [
      "Creating Simulations on Comps:   0%|          | 0/10 [00:00<?, ?simulation/s]          "
     ]
    },
    {
     "name": "stdout",
     "output_type": "stream",
     "text": [
      "WARNING: During schema-based param purge, logLevel_Individual not in schema.\n",
      "WARNING: During schema-based param purge, Event_Map not in schema.\n",
      "WARNING: During schema-based param purge, logLevel_Individual not in schema.\n",
      "WARNING: During schema-based param purge, Event_Map not in schema.\n",
      "WARNING: During schema-based param purge, logLevel_Individual not in schema.\n",
      "WARNING: During schema-based param purge, Event_Map not in schema.\n",
      "WARNING: During schema-based param purge, logLevel_Individual not in schema.\n",
      "WARNING: During schema-based param purge, Event_Map not in schema.\n",
      "WARNING: During schema-based param purge, logLevel_Individual not in schema.\n",
      "WARNING: During schema-based param purge, Event_Map not in schema.\n",
      "WARNING: During schema-based param purge, logLevel_Individual not in schema.\n",
      "WARNING: During schema-based param purge, Event_Map not in schema.\n",
      "WARNING: During schema-based param purge, logLevel_Individual not in schema.\n",
      "WARNING: During schema-based param purge, Event_Map not in schema.\n",
      "WARNING: During schema-based param purge, logLevel_Individual not in schema.\n",
      "WARNING: During schema-based param purge, Event_Map not in schema.\n",
      "WARNING: During schema-based param purge, logLevel_Individual not in schema.\n",
      "WARNING: During schema-based param purge, Event_Map not in schema.\n",
      "WARNING: During schema-based param purge, logLevel_Individual not in schema.\n",
      "WARNING: During schema-based param purge, Event_Map not in schema.\n"
     ]
    },
    {
     "name": "stderr",
     "output_type": "stream",
     "text": [
      "Creating Simulations on Comps: 100%|██████████| 10/10 [00:00<00:00, 18.53simulation/s]\n",
      "Waiting on Experiment TBHIV South Africa Sample Experiment to Finish running: 100%|██████████| 10/10 [00:21<00:00,  2.12s/simulation]"
     ]
    },
    {
     "name": "stdout",
     "output_type": "stream",
     "text": [
      "Experiment 0549c02b-5a4d-ec11-a9f1-9440c9be2c51 succeeded.\n",
      "0549c02b5a4dec11a9f19440c9be2c51\n",
      "\n",
      "[Calculon]\n",
      "{\n",
      "   \"endpoint\": \"https://comps.idmod.org\",\n",
      "   \"environment\": \"Calculon\"\n",
      "}\n"
     ]
    },
    {
     "name": "stderr",
     "output_type": "stream",
     "text": [
      "\n"
     ]
    },
    {
     "name": "stdout",
     "output_type": "stream",
     "text": [
      "Attempting to download ['output/InsetChart.json'] for experiment 0549c02b-5a4d-ec11-a9f1-9440c9be2c51 into 0549c02b-5a4d-ec11-a9f1-9440c9be2c51.\n",
      "Creating Watcher\n",
      "\n",
      "The running WorkItem can be viewed at https://comps.idmod.org/#explore/WorkItems?filters=Id=4b18273b-5a4d-ec11-a9f1-9440c9be2c51\n",
      "\n"
     ]
    },
    {
     "name": "stderr",
     "output_type": "stream",
     "text": [
      "Waiting on WorkItem Filter outputs for Experiment 0549c02b-5a4d-ec11-a9f1-9440c9be2c51: 100%|██████████| 1/1 [00:10<00:00, 10.12s/workitem]\n",
      "Downloading Files: 100%|██████████| 75.9k/75.9k [00:00<00:00, 1.48MB/s]"
     ]
    },
    {
     "name": "stdout",
     "output_type": "stream",
     "text": [
      "Removing 0549c02b-5a4d-ec11-a9f1-9440c9be2c51/output.zip\n",
      "Deleting workitem 4b18273b-5a4d-ec11-a9f1-9440c9be2c51\n",
      "\n",
      "[Calculon]\n",
      "{\n",
      "   \"endpoint\": \"https://comps.idmod.org\",\n",
      "   \"environment\": \"Calculon\"\n",
      "}\n"
     ]
    },
    {
     "name": "stderr",
     "output_type": "stream",
     "text": [
      "\n"
     ]
    },
    {
     "name": "stdout",
     "output_type": "stream",
     "text": [
      "Attempting to download ['output/InsetChart.json'] for experiment 0549c02b-5a4d-ec11-a9f1-9440c9be2c51 into 0549c02b-5a4d-ec11-a9f1-9440c9be2c51.\n",
      "Creating Watcher\n",
      "\n",
      "The running WorkItem can be viewed at https://comps.idmod.org/#explore/WorkItems?filters=Id=b2732141-5a4d-ec11-a9f1-9440c9be2c51\n",
      "\n"
     ]
    },
    {
     "name": "stderr",
     "output_type": "stream",
     "text": [
      "Waiting on WorkItem Filter outputs for Experiment 0549c02b-5a4d-ec11-a9f1-9440c9be2c51: 100%|██████████| 1/1 [00:10<00:00, 10.24s/workitem]\n",
      "Downloading Files: 100%|██████████| 75.9k/75.9k [00:00<00:00, 1.44MB/s]"
     ]
    },
    {
     "name": "stdout",
     "output_type": "stream",
     "text": [
      "Removing 0549c02b-5a4d-ec11-a9f1-9440c9be2c51/output.zip\n",
      "Deleting workitem b2732141-5a4d-ec11-a9f1-9440c9be2c51\n"
     ]
    },
    {
     "name": "stderr",
     "output_type": "stream",
     "text": [
      "\n"
     ]
    },
    {
     "data": {
      "image/png": "[encoded data removed]",
      "text/plain": [
       "<Figure size 432x288 with 1 Axes>"
      ]
     },
     "metadata": {
      "needs_background": "light"
     },
     "output_type": "display_data"
    }
   ],
   "source": [
    "def update_sim_fp(simulation, value):\n",
    "    simulation.task.config.parameters.TB_Fast_Progressor_Fraction_Adult = value*0.1\n",
    "    return {\"TB_Fast_Progressor_Fraction_Adult\": value*0.1}\n",
    "\n",
    "# Create simulation sweep with builder\n",
    "builder = SimulationBuilder()\n",
    "builder.add_sweep_definition( update_sim_fp, range(10) )\n",
    "\n",
    "experiment_id = run_test()\n",
    "\n",
    "from downloader import download as dl\n",
    "manifest.output_dl_folder = str(experiment_id)\n",
    "dl(manifest.output_dl_folder)\n",
    "\n",
    "import json\n",
    "import matplotlib.pyplot as plt\n",
    "\n",
    "manifest.output_dl_folder = str(experiment_id)\n",
    "dl(manifest.output_dl_folder)\n",
    "sims = os.listdir(manifest.output_dl_folder)\n",
    "prevs = []\n",
    "for sim in sims:\n",
    "    tb_prev = json.load( open( manifest.output_dl_folder + \"/\" + sim + \"/\" + \"output/InsetChart.json\" ) )[\"Channels\"][\"Infected\"][\"Data\"]\n",
    "    prevs.append( tb_prev )\n",
    "    plt.plot( tb_prev )"
   ]
  },
  {
   "cell_type": "markdown",
   "id": "add5c73a",
   "metadata": {},
   "source": [
    "And slow progressor rate. Except here we reduce the fraction of fast progressors to 10%, so 90% are slow, and we extend the simulation duration out to 30 years. Note that the x axis is a bit confusing in all these because we are using 1 month timesteps and the x-axis labels are \"timesteps\" not days."
   ]
  },
  {
   "cell_type": "code",
   "execution_count": 24,
   "id": "52e6a00e",
   "metadata": {},
   "outputs": [
    {
     "name": "stdout",
     "output_type": "stream",
     "text": [
      "\n",
      "The created experiment can be viewed at https://comps.idmod.org/#explore/Simulations?filters=ExperimentId=4c7c1947-5a4d-ec11-a9f1-9440c9be2c51\n",
      "Simulations are still being created\n",
      "\n"
     ]
    },
    {
     "name": "stderr",
     "output_type": "stream",
     "text": [
      "Creating Simulations on Comps:   0%|          | 0/10 [00:00<?, ?simulation/s]         "
     ]
    },
    {
     "name": "stdout",
     "output_type": "stream",
     "text": [
      "WARNING: During schema-based param purge, logLevel_Individual not in schema.\n",
      "WARNING: During schema-based param purge, Event_Map not in schema.\n",
      "WARNING: During schema-based param purge, logLevel_Individual not in schema.\n",
      "WARNING: During schema-based param purge, Event_Map not in schema.\n",
      "WARNING: During schema-based param purge, logLevel_Individual not in schema.\n",
      "WARNING: During schema-based param purge, Event_Map not in schema.\n",
      "WARNING: During schema-based param purge, logLevel_Individual not in schema.\n",
      "WARNING: During schema-based param purge, Event_Map not in schema.\n",
      "WARNING: During schema-based param purge, logLevel_Individual not in schema.\n",
      "WARNING: During schema-based param purge, Event_Map not in schema.\n",
      "WARNING: During schema-based param purge, logLevel_Individual not in schema.\n",
      "WARNING: During schema-based param purge, Event_Map not in schema.\n",
      "WARNING: During schema-based param purge, logLevel_Individual not in schema.\n",
      "WARNING: During schema-based param purge, Event_Map not in schema.\n",
      "WARNING: During schema-based param purge, logLevel_Individual not in schema.\n",
      "WARNING: During schema-based param purge, Event_Map not in schema.\n",
      "WARNING: During schema-based param purge, logLevel_Individual not in schema.\n",
      "WARNING: During schema-based param purge, Event_Map not in schema.\n",
      "WARNING: During schema-based param purge, logLevel_Individual not in schema.\n",
      "WARNING: During schema-based param purge, Event_Map not in schema.\n"
     ]
    },
    {
     "name": "stderr",
     "output_type": "stream",
     "text": [
      "Creating Simulations on Comps: 100%|██████████| 10/10 [00:00<00:00, 10.06simulation/s]\n",
      "Waiting on Experiment TBHIV South Africa Sample Experiment to Finish running: 100%|██████████| 10/10 [00:20<00:00,  2.09s/simulation]"
     ]
    },
    {
     "name": "stdout",
     "output_type": "stream",
     "text": [
      "Experiment 4c7c1947-5a4d-ec11-a9f1-9440c9be2c51 succeeded.\n",
      "4c7c19475a4dec11a9f19440c9be2c51\n",
      "\n",
      "[Calculon]\n",
      "{\n",
      "   \"endpoint\": \"https://comps.idmod.org\",\n",
      "   \"environment\": \"Calculon\"\n",
      "}\n"
     ]
    },
    {
     "name": "stderr",
     "output_type": "stream",
     "text": [
      "\n"
     ]
    },
    {
     "name": "stdout",
     "output_type": "stream",
     "text": [
      "Attempting to download ['output/InsetChart.json'] for experiment 4c7c1947-5a4d-ec11-a9f1-9440c9be2c51 into 4c7c1947-5a4d-ec11-a9f1-9440c9be2c51.\n",
      "Creating Watcher\n",
      "\n",
      "The running WorkItem can be viewed at https://comps.idmod.org/#explore/WorkItems?filters=Id=e86d0953-5a4d-ec11-a9f1-9440c9be2c51\n",
      "\n"
     ]
    },
    {
     "name": "stderr",
     "output_type": "stream",
     "text": [
      "Waiting on WorkItem Filter outputs for Experiment 4c7c1947-5a4d-ec11-a9f1-9440c9be2c51: 100%|██████████| 1/1 [00:05<00:00,  5.09s/workitem]\n",
      "Downloading Files: 100%|██████████| 161k/161k [00:00<00:00, 1.89MB/s]"
     ]
    },
    {
     "name": "stdout",
     "output_type": "stream",
     "text": [
      "Removing 4c7c1947-5a4d-ec11-a9f1-9440c9be2c51/output.zip\n",
      "Deleting workitem e86d0953-5a4d-ec11-a9f1-9440c9be2c51\n",
      "\n",
      "[Calculon]\n",
      "{\n",
      "   \"endpoint\": \"https://comps.idmod.org\",\n",
      "   \"environment\": \"Calculon\"\n",
      "}\n"
     ]
    },
    {
     "name": "stderr",
     "output_type": "stream",
     "text": [
      "\n"
     ]
    },
    {
     "name": "stdout",
     "output_type": "stream",
     "text": [
      "Attempting to download ['output/InsetChart.json'] for experiment 4c7c1947-5a4d-ec11-a9f1-9440c9be2c51 into 4c7c1947-5a4d-ec11-a9f1-9440c9be2c51.\n",
      "Creating Watcher\n",
      "\n",
      "The running WorkItem can be viewed at https://comps.idmod.org/#explore/WorkItems?filters=Id=c7a53a59-5a4d-ec11-a9f1-9440c9be2c51\n",
      "\n"
     ]
    },
    {
     "name": "stderr",
     "output_type": "stream",
     "text": [
      "Waiting on WorkItem Filter outputs for Experiment 4c7c1947-5a4d-ec11-a9f1-9440c9be2c51: 100%|██████████| 1/1 [00:05<00:00,  5.14s/workitem]\n",
      "Downloading Files: 100%|██████████| 161k/161k [00:00<00:00, 2.15MB/s]"
     ]
    },
    {
     "name": "stdout",
     "output_type": "stream",
     "text": [
      "Removing 4c7c1947-5a4d-ec11-a9f1-9440c9be2c51/output.zip\n",
      "Deleting workitem c7a53a59-5a4d-ec11-a9f1-9440c9be2c51\n"
     ]
    },
    {
     "name": "stderr",
     "output_type": "stream",
     "text": [
      "\n"
     ]
    },
    {
     "data": {
      "image/png": "[encoded data removed]",
      "text/plain": [
       "<Figure size 432x288 with 1 Axes>"
      ]
     },
     "metadata": {
      "needs_background": "light"
     },
     "output_type": "display_data"
    }
   ],
   "source": [
    "def update_sim_fp(simulation, value):\n",
    "    rate = 10**(0.5*value) *1e-06\n",
    "    simulation.task.config.parameters.TB_Slow_Progressor_Rate = rate\n",
    "    return {\"TB_Slow_Progressor_Rate\": rate}\n",
    "\n",
    "# Create simulation sweep with builder\n",
    "task.config.parameters.TB_Fast_Progressor_Fraction_Adult = 0.1\n",
    "task.config.parameters.TB_Fast_Progressor_Fraction_Child = 0.1\n",
    "task.config.parameters.Simulation_Duration = 3650*3\n",
    "\n",
    "builder = SimulationBuilder()\n",
    "builder.add_sweep_definition( update_sim_fp, range(10) )\n",
    "\n",
    "experiment_id = run_test()\n",
    "\n",
    "from downloader import download as dl\n",
    "manifest.output_dl_folder = str(experiment_id)\n",
    "dl(manifest.output_dl_folder)\n",
    "\n",
    "import json\n",
    "import matplotlib.pyplot as plt\n",
    "\n",
    "manifest.output_dl_folder = str(experiment_id)\n",
    "dl(manifest.output_dl_folder)\n",
    "sims = os.listdir(manifest.output_dl_folder)\n",
    "prevs = []\n",
    "for sim in sims:\n",
    "    tb_prev = json.load( open( manifest.output_dl_folder + \"/\" + sim + \"/\" + \"output/InsetChart.json\" ) )[\"Channels\"][\"Infected\"][\"Data\"]\n",
    "    prevs.append( tb_prev )\n",
    "    plt.plot( tb_prev )"
   ]
  },
  {
   "cell_type": "markdown",
   "id": "eb522062",
   "metadata": {},
   "source": [
    "\n",
    "Now let's move onto the campaign side of things and demonstrate how one might sweep over a campaign param, perhaps to demonstrate parametery sensitivity."
   ]
  },
  {
   "cell_type": "code",
   "execution_count": 25,
   "id": "ed099d57",
   "metadata": {},
   "outputs": [
    {
     "name": "stdout",
     "output_type": "stream",
     "text": [
      "\n",
      "The created experiment can be viewed at https://comps.idmod.org/#explore/Simulations?filters=ExperimentId=2b51f15f-5a4d-ec11-a9f1-9440c9be2c51\n",
      "Simulations are still being created\n",
      "\n"
     ]
    },
    {
     "name": "stderr",
     "output_type": "stream",
     "text": [
      "\r",
      "Initializing objects for creation: 0simulation [00:00, ?simulation/s]"
     ]
    },
    {
     "name": "stdout",
     "output_type": "stream",
     "text": [
      "Use of first flag is deprecated. Use set_schema to start build a new, empty campaign.\n",
      "Campaign is publishing the following events:\n",
      "Hello\n",
      "ArtDistributed\n",
      "Oh_No_I_Have_HIV\n",
      "BcgDistributed\n",
      "Yay\n",
      "Campaign is listening to the following events:\n",
      "TBActivationPresymptomatic\n",
      "Campaign is IGNORING the following events:\n",
      "ArtDistributed\n",
      "Oh_No_I_Have_HIV\n",
      "Hello\n",
      "BcgDistributed\n",
      "Yay\n",
      "Campaign is LISTENING to the following non-campaign events:\n",
      "TBActivationPresymptomatic\n",
      "Campaign builder save returned campaign.json as file.\n",
      "Found adhoc events in campaign. Needs some special processing behind the scenes.\n",
      "Use of first flag is deprecated. Use set_schema to start build a new, empty campaign.\n",
      "Campaign is publishing the following events:\n",
      "Hello\n",
      "ArtDistributed\n",
      "Oh_No_I_Have_HIV\n",
      "BcgDistributed\n",
      "Yay\n",
      "Campaign is listening to the following events:\n",
      "TBActivationPresymptomatic\n",
      "Campaign is IGNORING the following events:\n",
      "ArtDistributed\n",
      "Oh_No_I_Have_HIV\n",
      "Hello\n",
      "BcgDistributed\n",
      "Yay\n",
      "Campaign is LISTENING to the following non-campaign events:\n",
      "TBActivationPresymptomatic\n",
      "Campaign builder save returned campaign.json as file.\n",
      "Found adhoc events in campaign. Needs some special processing behind the scenes.\n",
      "Use of first flag is deprecated. Use set_schema to start build a new, empty campaign.\n",
      "Campaign is publishing the following events:\n",
      "Hello\n",
      "ArtDistributed\n",
      "Oh_No_I_Have_HIV\n",
      "BcgDistributed\n",
      "Yay\n",
      "Campaign is listening to the following events:\n",
      "TBActivationPresymptomatic\n",
      "Campaign is IGNORING the following events:\n",
      "ArtDistributed\n",
      "Oh_No_I_Have_HIV\n",
      "Hello\n",
      "BcgDistributed\n",
      "Yay\n",
      "Campaign is LISTENING to the following non-campaign events:\n",
      "TBActivationPresymptomatic\n",
      "Campaign builder save returned campaign.json as file.\n",
      "Found adhoc events in campaign. Needs some special processing behind the scenes.\n",
      "Use of first flag is deprecated. Use set_schema to start build a new, empty campaign.\n",
      "Campaign is publishing the following events:\n",
      "Hello\n",
      "ArtDistributed\n",
      "Oh_No_I_Have_HIV\n",
      "BcgDistributed\n",
      "Yay\n",
      "Campaign is listening to the following events:\n",
      "TBActivationPresymptomatic\n",
      "Campaign is IGNORING the following events:\n",
      "ArtDistributed\n",
      "Oh_No_I_Have_HIV\n",
      "Hello\n",
      "BcgDistributed\n",
      "Yay\n",
      "Campaign is LISTENING to the following non-campaign events:\n",
      "TBActivationPresymptomatic\n",
      "Campaign builder save returned campaign.json as file.\n",
      "Found adhoc events in campaign. Needs some special processing behind the scenes.\n",
      "Use of first flag is deprecated. Use set_schema to start build a new, empty campaign.\n",
      "Campaign is publishing the following events:\n",
      "Hello\n",
      "ArtDistributed\n",
      "Oh_No_I_Have_HIV\n",
      "BcgDistributed\n",
      "Yay\n",
      "Campaign is listening to the following events:\n",
      "TBActivationPresymptomatic\n",
      "Campaign is IGNORING the following events:\n",
      "ArtDistributed\n",
      "Oh_No_I_Have_HIV\n",
      "Hello\n",
      "BcgDistributed\n",
      "Yay\n",
      "Campaign is LISTENING to the following non-campaign events:\n",
      "TBActivationPresymptomatic\n",
      "Campaign builder save returned campaign.json as file.\n",
      "Found adhoc events in campaign. Needs some special processing behind the scenes.\n",
      "Use of first flag is deprecated. Use set_schema to start build a new, empty campaign.\n",
      "Campaign is publishing the following events:\n",
      "Hello\n",
      "ArtDistributed\n",
      "Oh_No_I_Have_HIV\n",
      "BcgDistributed\n",
      "Yay\n",
      "Campaign is listening to the following events:\n",
      "TBActivationPresymptomatic\n",
      "Campaign is IGNORING the following events:\n",
      "ArtDistributed\n",
      "Oh_No_I_Have_HIV\n",
      "Hello\n",
      "BcgDistributed\n",
      "Yay\n",
      "Campaign is LISTENING to the following non-campaign events:\n",
      "TBActivationPresymptomatic\n",
      "Campaign builder save returned campaign.json as file.\n",
      "Found adhoc events in campaign. Needs some special processing behind the scenes.\n",
      "Use of first flag is deprecated. Use set_schema to start build a new, empty campaign.\n",
      "Campaign is publishing the following events:\n",
      "Hello\n",
      "ArtDistributed\n",
      "Oh_No_I_Have_HIV\n",
      "BcgDistributed\n",
      "Yay\n",
      "Campaign is listening to the following events:\n",
      "TBActivationPresymptomatic\n",
      "Campaign is IGNORING the following events:\n",
      "ArtDistributed\n",
      "Oh_No_I_Have_HIV\n",
      "Hello\n",
      "BcgDistributed\n",
      "Yay\n",
      "Campaign is LISTENING to the following non-campaign events:\n",
      "TBActivationPresymptomatic\n",
      "Campaign builder save returned campaign.json as file.\n",
      "Found adhoc events in campaign. Needs some special processing behind the scenes.\n",
      "Use of first flag is deprecated. Use set_schema to start build a new, empty campaign.\n",
      "Campaign is publishing the following events:\n",
      "Hello\n",
      "ArtDistributed\n",
      "Oh_No_I_Have_HIV\n",
      "BcgDistributed\n",
      "Yay\n",
      "Campaign is listening to the following events:\n",
      "TBActivationPresymptomatic\n",
      "Campaign is IGNORING the following events:\n",
      "ArtDistributed\n",
      "Oh_No_I_Have_HIV\n",
      "Hello\n",
      "BcgDistributed\n",
      "Yay\n",
      "Campaign is LISTENING to the following non-campaign events:\n",
      "TBActivationPresymptomatic\n",
      "Campaign builder save returned campaign.json as file.\n",
      "Found adhoc events in campaign. Needs some special processing behind the scenes.\n",
      "Use of first flag is deprecated. Use set_schema to start build a new, empty campaign.\n",
      "Campaign is publishing the following events:\n",
      "Hello\n",
      "ArtDistributed\n",
      "Oh_No_I_Have_HIV\n",
      "BcgDistributed\n",
      "Yay\n",
      "Campaign is listening to the following events:\n",
      "TBActivationPresymptomatic\n",
      "Campaign is IGNORING the following events:\n",
      "ArtDistributed\n",
      "Oh_No_I_Have_HIV\n",
      "Hello\n",
      "BcgDistributed\n",
      "Yay\n",
      "Campaign is LISTENING to the following non-campaign events:\n",
      "TBActivationPresymptomatic\n",
      "Campaign builder save returned campaign.json as file.\n",
      "Found adhoc events in campaign. Needs some special processing behind the scenes.\n",
      "Use of first flag is deprecated. Use set_schema to start build a new, empty campaign.\n",
      "Campaign is publishing the following events:\n",
      "Hello\n",
      "ArtDistributed\n",
      "Oh_No_I_Have_HIV\n",
      "BcgDistributed\n",
      "Yay\n",
      "Campaign is listening to the following events:\n",
      "TBActivationPresymptomatic\n",
      "Campaign is IGNORING the following events:\n",
      "ArtDistributed\n",
      "Oh_No_I_Have_HIV\n",
      "Hello\n",
      "BcgDistributed\n",
      "Yay\n",
      "Campaign is LISTENING to the following non-campaign events:\n",
      "TBActivationPresymptomatic\n",
      "Campaign builder save returned campaign.json as file.\n"
     ]
    },
    {
     "name": "stderr",
     "output_type": "stream",
     "text": [
      "Creating Simulations on Comps:   0%|          | 0/10 [00:00<?, ?simulation/s]             "
     ]
    },
    {
     "name": "stdout",
     "output_type": "stream",
     "text": [
      "Found adhoc events in campaign. Needs some special processing behind the scenes.\n",
      "WARNING: During schema-based param purge, logLevel_Individual not in schema.\n",
      "WARNING: During schema-based param purge, Event_Map not in schema.\n",
      "WARNING: During schema-based param purge, logLevel_Individual not in schema.\n",
      "WARNING: During schema-based param purge, Event_Map not in schema.\n",
      "WARNING: During schema-based param purge, logLevel_Individual not in schema.\n",
      "WARNING: During schema-based param purge, Event_Map not in schema.\n",
      "WARNING: During schema-based param purge, logLevel_Individual not in schema.\n",
      "WARNING: During schema-based param purge, Event_Map not in schema.\n",
      "WARNING: During schema-based param purge, logLevel_Individual not in schema.\n",
      "WARNING: During schema-based param purge, Event_Map not in schema.\n",
      "WARNING: During schema-based param purge, logLevel_Individual not in schema.\n",
      "WARNING: During schema-based param purge, Event_Map not in schema.\n",
      "WARNING: During schema-based param purge, logLevel_Individual not in schema.\n",
      "WARNING: During schema-based param purge, Event_Map not in schema.\n",
      "WARNING: During schema-based param purge, logLevel_Individual not in schema.\n",
      "WARNING: During schema-based param purge, Event_Map not in schema.\n",
      "WARNING: During schema-based param purge, logLevel_Individual not in schema.\n",
      "WARNING: During schema-based param purge, Event_Map not in schema.\n",
      "WARNING: During schema-based param purge, logLevel_Individual not in schema.\n",
      "WARNING: During schema-based param purge, Event_Map not in schema.\n"
     ]
    },
    {
     "name": "stderr",
     "output_type": "stream",
     "text": [
      "Creating Simulations on Comps: 100%|██████████| 10/10 [00:00<00:00, 19.02simulation/s]\n",
      "Waiting on Experiment TBHIV South Africa Sample Experiment to Finish running: 100%|██████████| 10/10 [00:31<00:00,  3.15s/simulation]"
     ]
    },
    {
     "name": "stdout",
     "output_type": "stream",
     "text": [
      "Experiment 2b51f15f-5a4d-ec11-a9f1-9440c9be2c51 succeeded.\n",
      "2b51f15f5a4dec11a9f19440c9be2c51\n",
      "\n",
      "[Calculon]\n",
      "{\n",
      "   \"endpoint\": \"https://comps.idmod.org\",\n",
      "   \"environment\": \"Calculon\"\n",
      "}\n"
     ]
    },
    {
     "name": "stderr",
     "output_type": "stream",
     "text": [
      "\n"
     ]
    },
    {
     "name": "stdout",
     "output_type": "stream",
     "text": [
      "Attempting to download ['output/InsetChart.json'] for experiment 2b51f15f-5a4d-ec11-a9f1-9440c9be2c51 into 2b51f15f-5a4d-ec11-a9f1-9440c9be2c51.\n",
      "Creating Watcher\n",
      "\n",
      "The running WorkItem can be viewed at https://comps.idmod.org/#explore/WorkItems?filters=Id=cc70b272-5a4d-ec11-a9f1-9440c9be2c51\n",
      "\n"
     ]
    },
    {
     "name": "stderr",
     "output_type": "stream",
     "text": [
      "Waiting on WorkItem Filter outputs for Experiment 2b51f15f-5a4d-ec11-a9f1-9440c9be2c51: 100%|██████████| 1/1 [00:10<00:00, 10.14s/workitem]\n",
      "Downloading Files: 100%|██████████| 148k/148k [00:00<00:00, 1.71MB/s]"
     ]
    },
    {
     "name": "stdout",
     "output_type": "stream",
     "text": [
      "Removing 2b51f15f-5a4d-ec11-a9f1-9440c9be2c51/output.zip\n",
      "Deleting workitem cc70b272-5a4d-ec11-a9f1-9440c9be2c51\n"
     ]
    },
    {
     "name": "stderr",
     "output_type": "stream",
     "text": [
      "\n"
     ]
    },
    {
     "name": "stdout",
     "output_type": "stream",
     "text": [
      "\n",
      "[Calculon]\n",
      "{\n",
      "   \"endpoint\": \"https://comps.idmod.org\",\n",
      "   \"environment\": \"Calculon\"\n",
      "}\n",
      "Attempting to download ['output/InsetChart.json'] for experiment 2b51f15f-5a4d-ec11-a9f1-9440c9be2c51 into 2b51f15f-5a4d-ec11-a9f1-9440c9be2c51.\n",
      "Creating Watcher\n",
      "\n",
      "The running WorkItem can be viewed at https://comps.idmod.org/#explore/WorkItems?filters=Id=d58bdb79-5a4d-ec11-a9f1-9440c9be2c51\n",
      "\n"
     ]
    },
    {
     "name": "stderr",
     "output_type": "stream",
     "text": [
      "Waiting on WorkItem Filter outputs for Experiment 2b51f15f-5a4d-ec11-a9f1-9440c9be2c51: 100%|██████████| 1/1 [00:10<00:00, 10.18s/workitem]\n",
      "Downloading Files: 100%|██████████| 148k/148k [00:00<00:00, 2.04MB/s]"
     ]
    },
    {
     "name": "stdout",
     "output_type": "stream",
     "text": [
      "Removing 2b51f15f-5a4d-ec11-a9f1-9440c9be2c51/output.zip\n",
      "Deleting workitem d58bdb79-5a4d-ec11-a9f1-9440c9be2c51\n"
     ]
    },
    {
     "name": "stderr",
     "output_type": "stream",
     "text": [
      "\n"
     ]
    },
    {
     "data": {
      "image/png": "[encoded data removed]",
      "text/plain": [
       "<Figure size 432x288 with 1 Axes>"
      ]
     },
     "metadata": {
      "needs_background": "light"
     },
     "output_type": "display_data"
    }
   ],
   "source": [
    "def build_camp( outbreak_start_day = 40 ):\n",
    "    \"\"\"\n",
    "    Import all campaign builder API functions, from emod_api and emodpy_tbhiv...\n",
    "    \"\"\"\n",
    "    import emod_api.campaign as camp\n",
    "    import emod_api.interventions.outbreak as ob\n",
    "    import emod_api.interventions.utils as utils\n",
    "    import emodpy_tbhiv as tbhiv\n",
    "    import emodpy_tbhiv.interventions.art as art\n",
    "    import emodpy_tbhiv.interventions.bcg as bcg\n",
    "    import emodpy_tbhiv.interventions.active_diagnostic as ad\n",
    "    import emodpy_tbhiv.interventions.hiv_diag as hd\n",
    "    from emodpy_tbhiv.interventions import purge_campaign_event\n",
    "\n",
    "    # Seed the outbreak\n",
    "    camp.schema_path = manifest.schema_file\n",
    "    seed = ob.seed_by_coverage( camp, outbreak_start_day, 0.5 )\n",
    "    purge_campaign_event( seed )\n",
    "    camp.add( seed, first=True )\n",
    "\n",
    "    # Create our campaign with interventions. Some are scheduled...\n",
    "    camp.add( art.ART( camp, [\"TBActivationPresymptomatic\"], start_day=10 ) )\n",
    "    camp.add( bcg.BCG( camp, [\"TBActivationPresymptomatic\"], start_day=10 ) )\n",
    "    \n",
    "    # And others are triggered\n",
    "    camp.add( ad.ActiveDiagnostic( camp, [\"TBActivationPresymptomatic\"], start_day=1, pos_event=\"Hello\" ) )\n",
    "    camp.add( hd.HIVDiagnostic( camp, [\"TBActivationPresymptomatic\"], start_day=1, pos_event=\"Oh_No_I_Have_HIV\", neg_event=\"Yay\" ) )\n",
    "    \n",
    "    return camp\n",
    "\n",
    "def update_campaign_start_day(simulation, value):\n",
    "    value = value * 365\n",
    "    build_campaign_partial = partial(build_camp, outbreak_start_day=value)\n",
    "    simulation.task.create_campaign_from_callback(build_campaign_partial)\n",
    "    return {\"outreak_start_day\": value}\n",
    "\n",
    "builder = SimulationBuilder()\n",
    "builder.add_sweep_definition( update_campaign_start_day, range(10) )\n",
    "\n",
    "experiment_id = run_test()\n",
    "\n",
    "from downloader import download as dl\n",
    "manifest.output_dl_folder = str(experiment_id)\n",
    "dl(manifest.output_dl_folder)\n",
    "\n",
    "import json\n",
    "import matplotlib.pyplot as plt\n",
    "\n",
    "manifest.output_dl_folder = str(experiment_id)\n",
    "dl(manifest.output_dl_folder)\n",
    "sims = os.listdir(manifest.output_dl_folder)\n",
    "prevs = []\n",
    "for sim in sims:\n",
    "    tb_prev = json.load( open( manifest.output_dl_folder + \"/\" + sim + \"/\" + \"output/InsetChart.json\" ) )[\"Channels\"][\"Infected\"][\"Data\"]\n",
    "    prevs.append( tb_prev )\n",
    "    plt.plot( tb_prev )"
   ]
  },
  {
   "cell_type": "markdown",
   "id": "92110f5d",
   "metadata": {},
   "source": [
    "Finally, we're going to do a campaign sweep where we sweep over the start day of our ART distribution (and related interventions). The visualization is a bit ugly, it's showing the number of ArtDistributed events over time from the ReportEventRecorder.csv file."
   ]
  },
  {
   "cell_type": "code",
   "execution_count": 26,
   "id": "21e313b1",
   "metadata": {},
   "outputs": [
    {
     "name": "stdout",
     "output_type": "stream",
     "text": [
      "\n",
      "The created experiment can be viewed at https://comps.idmod.org/#explore/Simulations?filters=ExperimentId=57f05080-5a4d-ec11-a9f1-9440c9be2c51\n",
      "Simulations are still being created\n",
      "\n"
     ]
    },
    {
     "name": "stderr",
     "output_type": "stream",
     "text": [
      "\r",
      "Initializing objects for creation: 0simulation [00:00, ?simulation/s]"
     ]
    },
    {
     "name": "stdout",
     "output_type": "stream",
     "text": [
      "Use of first flag is deprecated. Use set_schema to start build a new, empty campaign.\n",
      "Campaign is publishing the following events:\n",
      "Hello\n",
      "ArtDistributed\n",
      "Oh_No_I_Have_HIV\n",
      "BcgDistributed\n",
      "Yay\n",
      "Campaign is listening to the following events:\n",
      "TBActivationPresymptomatic\n",
      "Campaign is IGNORING the following events:\n",
      "ArtDistributed\n",
      "Oh_No_I_Have_HIV\n",
      "Hello\n",
      "BcgDistributed\n",
      "Yay\n",
      "Campaign is LISTENING to the following non-campaign events:\n",
      "TBActivationPresymptomatic\n",
      "Campaign builder save returned campaign.json as file.\n",
      "Found adhoc events in campaign. Needs some special processing behind the scenes.\n",
      "Use of first flag is deprecated. Use set_schema to start build a new, empty campaign.\n",
      "Campaign is publishing the following events:\n",
      "Hello\n",
      "ArtDistributed\n",
      "Oh_No_I_Have_HIV\n",
      "BcgDistributed\n",
      "Yay\n",
      "Campaign is listening to the following events:\n",
      "TBActivationPresymptomatic\n",
      "Campaign is IGNORING the following events:\n",
      "ArtDistributed\n",
      "Oh_No_I_Have_HIV\n",
      "Hello\n",
      "BcgDistributed\n",
      "Yay\n",
      "Campaign is LISTENING to the following non-campaign events:\n",
      "TBActivationPresymptomatic\n",
      "Campaign builder save returned campaign.json as file.\n",
      "Found adhoc events in campaign. Needs some special processing behind the scenes.\n",
      "Use of first flag is deprecated. Use set_schema to start build a new, empty campaign.\n",
      "Campaign is publishing the following events:\n",
      "Hello\n",
      "ArtDistributed\n",
      "Oh_No_I_Have_HIV\n",
      "BcgDistributed\n",
      "Yay\n",
      "Campaign is listening to the following events:\n",
      "TBActivationPresymptomatic\n",
      "Campaign is IGNORING the following events:\n",
      "ArtDistributed\n",
      "Oh_No_I_Have_HIV\n",
      "Hello\n",
      "BcgDistributed\n",
      "Yay\n",
      "Campaign is LISTENING to the following non-campaign events:\n",
      "TBActivationPresymptomatic\n",
      "Campaign builder save returned campaign.json as file.\n",
      "Found adhoc events in campaign. Needs some special processing behind the scenes.\n",
      "Use of first flag is deprecated. Use set_schema to start build a new, empty campaign.\n",
      "Campaign is publishing the following events:\n",
      "Hello\n",
      "ArtDistributed\n",
      "Oh_No_I_Have_HIV\n",
      "BcgDistributed\n",
      "Yay\n",
      "Campaign is listening to the following events:\n",
      "TBActivationPresymptomatic\n",
      "Campaign is IGNORING the following events:\n",
      "ArtDistributed\n",
      "Oh_No_I_Have_HIV\n",
      "Hello\n",
      "BcgDistributed\n",
      "Yay\n",
      "Campaign is LISTENING to the following non-campaign events:\n",
      "TBActivationPresymptomatic\n",
      "Campaign builder save returned campaign.json as file.\n",
      "Found adhoc events in campaign. Needs some special processing behind the scenes.\n",
      "Use of first flag is deprecated. Use set_schema to start build a new, empty campaign.\n",
      "Campaign is publishing the following events:\n",
      "Hello\n",
      "ArtDistributed\n",
      "Oh_No_I_Have_HIV\n",
      "BcgDistributed\n",
      "Yay\n",
      "Campaign is listening to the following events:\n",
      "TBActivationPresymptomatic\n",
      "Campaign is IGNORING the following events:\n",
      "ArtDistributed\n",
      "Oh_No_I_Have_HIV\n",
      "Hello\n",
      "BcgDistributed\n",
      "Yay\n",
      "Campaign is LISTENING to the following non-campaign events:\n",
      "TBActivationPresymptomatic\n",
      "Campaign builder save returned campaign.json as file.\n",
      "Found adhoc events in campaign. Needs some special processing behind the scenes.\n",
      "Use of first flag is deprecated. Use set_schema to start build a new, empty campaign.\n",
      "Campaign is publishing the following events:\n",
      "Hello\n",
      "ArtDistributed\n",
      "Oh_No_I_Have_HIV\n",
      "BcgDistributed\n",
      "Yay\n",
      "Campaign is listening to the following events:\n",
      "TBActivationPresymptomatic\n",
      "Campaign is IGNORING the following events:\n",
      "ArtDistributed\n",
      "Oh_No_I_Have_HIV\n",
      "Hello\n",
      "BcgDistributed\n",
      "Yay\n",
      "Campaign is LISTENING to the following non-campaign events:\n",
      "TBActivationPresymptomatic\n",
      "Campaign builder save returned campaign.json as file.\n",
      "Found adhoc events in campaign. Needs some special processing behind the scenes.\n",
      "Use of first flag is deprecated. Use set_schema to start build a new, empty campaign.\n",
      "Campaign is publishing the following events:\n",
      "Hello\n",
      "ArtDistributed\n",
      "Oh_No_I_Have_HIV\n",
      "BcgDistributed\n",
      "Yay\n",
      "Campaign is listening to the following events:\n",
      "TBActivationPresymptomatic\n",
      "Campaign is IGNORING the following events:\n",
      "ArtDistributed\n",
      "Oh_No_I_Have_HIV\n",
      "Hello\n",
      "BcgDistributed\n",
      "Yay\n",
      "Campaign is LISTENING to the following non-campaign events:\n",
      "TBActivationPresymptomatic\n",
      "Campaign builder save returned campaign.json as file.\n",
      "Found adhoc events in campaign. Needs some special processing behind the scenes.\n",
      "Use of first flag is deprecated. Use set_schema to start build a new, empty campaign.\n",
      "Campaign is publishing the following events:\n",
      "Hello\n",
      "ArtDistributed\n",
      "Oh_No_I_Have_HIV\n",
      "BcgDistributed\n",
      "Yay\n",
      "Campaign is listening to the following events:\n",
      "TBActivationPresymptomatic\n",
      "Campaign is IGNORING the following events:\n",
      "ArtDistributed\n",
      "Oh_No_I_Have_HIV\n",
      "Hello\n",
      "BcgDistributed\n",
      "Yay\n",
      "Campaign is LISTENING to the following non-campaign events:\n",
      "TBActivationPresymptomatic\n",
      "Campaign builder save returned campaign.json as file.\n",
      "Found adhoc events in campaign. Needs some special processing behind the scenes.\n",
      "Use of first flag is deprecated. Use set_schema to start build a new, empty campaign.\n",
      "Campaign is publishing the following events:\n",
      "Hello\n",
      "ArtDistributed\n",
      "Oh_No_I_Have_HIV\n",
      "BcgDistributed\n",
      "Yay\n",
      "Campaign is listening to the following events:\n",
      "TBActivationPresymptomatic\n",
      "Campaign is IGNORING the following events:\n",
      "ArtDistributed\n",
      "Oh_No_I_Have_HIV\n",
      "Hello\n",
      "BcgDistributed\n",
      "Yay\n",
      "Campaign is LISTENING to the following non-campaign events:\n",
      "TBActivationPresymptomatic\n",
      "Campaign builder save returned campaign.json as file.\n",
      "Found adhoc events in campaign. Needs some special processing behind the scenes.\n",
      "Use of first flag is deprecated. Use set_schema to start build a new, empty campaign.\n",
      "Campaign is publishing the following events:\n",
      "Hello\n",
      "ArtDistributed\n",
      "Oh_No_I_Have_HIV\n",
      "BcgDistributed\n",
      "Yay\n",
      "Campaign is listening to the following events:\n",
      "TBActivationPresymptomatic\n",
      "Campaign is IGNORING the following events:\n",
      "ArtDistributed\n",
      "Oh_No_I_Have_HIV\n",
      "Hello\n",
      "BcgDistributed\n",
      "Yay\n",
      "Campaign is LISTENING to the following non-campaign events:\n",
      "TBActivationPresymptomatic\n",
      "Campaign builder save returned campaign.json as file.\n"
     ]
    },
    {
     "name": "stderr",
     "output_type": "stream",
     "text": [
      "Creating Simulations on Comps:   0%|          | 0/10 [00:00<?, ?simulation/s]             "
     ]
    },
    {
     "name": "stdout",
     "output_type": "stream",
     "text": [
      "Found adhoc events in campaign. Needs some special processing behind the scenes.\n",
      "WARNING: During schema-based param purge, logLevel_Individual not in schema.\n",
      "WARNING: During schema-based param purge, Event_Map not in schema.\n",
      "WARNING: During schema-based param purge, logLevel_Individual not in schema.\n",
      "WARNING: During schema-based param purge, Event_Map not in schema.\n",
      "WARNING: During schema-based param purge, logLevel_Individual not in schema.\n",
      "WARNING: During schema-based param purge, Event_Map not in schema.\n",
      "WARNING: During schema-based param purge, logLevel_Individual not in schema.\n",
      "WARNING: During schema-based param purge, Event_Map not in schema.\n",
      "WARNING: During schema-based param purge, logLevel_Individual not in schema.\n",
      "WARNING: During schema-based param purge, Event_Map not in schema.\n",
      "WARNING: During schema-based param purge, logLevel_Individual not in schema.\n",
      "WARNING: During schema-based param purge, Event_Map not in schema.\n",
      "WARNING: During schema-based param purge, logLevel_Individual not in schema.\n",
      "WARNING: During schema-based param purge, Event_Map not in schema.\n",
      "WARNING: During schema-based param purge, logLevel_Individual not in schema.\n",
      "WARNING: During schema-based param purge, Event_Map not in schema.\n",
      "WARNING: During schema-based param purge, logLevel_Individual not in schema.\n",
      "WARNING: During schema-based param purge, Event_Map not in schema.\n",
      "WARNING: During schema-based param purge, logLevel_Individual not in schema.\n",
      "WARNING: During schema-based param purge, Event_Map not in schema.\n"
     ]
    },
    {
     "name": "stderr",
     "output_type": "stream",
     "text": [
      "Creating Simulations on Comps: 100%|██████████| 10/10 [00:00<00:00, 10.49simulation/s]\n",
      "Waiting on Experiment TBHIV South Africa Sample Experiment to Finish running: 100%|██████████| 10/10 [00:37<00:00,  3.71s/simulation]"
     ]
    },
    {
     "name": "stdout",
     "output_type": "stream",
     "text": [
      "Experiment 57f05080-5a4d-ec11-a9f1-9440c9be2c51 succeeded.\n",
      "57f050805a4dec11a9f19440c9be2c51\n",
      "\n",
      "[Calculon]\n",
      "{\n",
      "   \"endpoint\": \"https://comps.idmod.org\",\n",
      "   \"environment\": \"Calculon\"\n",
      "}\n"
     ]
    },
    {
     "name": "stderr",
     "output_type": "stream",
     "text": [
      "\n"
     ]
    },
    {
     "name": "stdout",
     "output_type": "stream",
     "text": [
      "Attempting to download ['output/ReportEventRecorder.csv'] for experiment 57f05080-5a4d-ec11-a9f1-9440c9be2c51 into 57f05080-5a4d-ec11-a9f1-9440c9be2c51.\n",
      "Creating Watcher\n",
      "\n",
      "The running WorkItem can be viewed at https://comps.idmod.org/#explore/WorkItems?filters=Id=87e2a597-5a4d-ec11-a9f1-9440c9be2c51\n",
      "\n"
     ]
    },
    {
     "name": "stderr",
     "output_type": "stream",
     "text": [
      "Waiting on WorkItem Filter outputs for Experiment 57f05080-5a4d-ec11-a9f1-9440c9be2c51: 100%|██████████| 1/1 [00:05<00:00,  5.09s/workitem]\n",
      "Downloading Files: 100%|██████████| 218k/218k [00:00<00:00, 2.20MB/s]"
     ]
    },
    {
     "name": "stdout",
     "output_type": "stream",
     "text": [
      "Removing 57f05080-5a4d-ec11-a9f1-9440c9be2c51/output.zip\n",
      "Deleting workitem 87e2a597-5a4d-ec11-a9f1-9440c9be2c51\n"
     ]
    },
    {
     "name": "stderr",
     "output_type": "stream",
     "text": [
      "\n"
     ]
    },
    {
     "data": {
      "image/png": "[encoded data removed]",
      "text/plain": [
       "<Figure size 432x288 with 10 Axes>"
      ]
     },
     "metadata": {
      "needs_background": "light"
     },
     "output_type": "display_data"
    }
   ],
   "source": [
    "def build_camp( outbreak_start_day = 40, art_start = 10 ):\n",
    "    \"\"\"\n",
    "    Import all campaign builder API functions, from emod_api and emodpy_tbhiv...\n",
    "    \"\"\"\n",
    "    import emod_api.campaign as camp\n",
    "    import emod_api.interventions.outbreak as ob\n",
    "    import emod_api.interventions.utils as utils\n",
    "    import emodpy_tbhiv as tbhiv\n",
    "    import emodpy_tbhiv.interventions.art as art\n",
    "    import emodpy_tbhiv.interventions.bcg as bcg\n",
    "    import emodpy_tbhiv.interventions.active_diagnostic as ad\n",
    "    import emodpy_tbhiv.interventions.hiv_diag as hd\n",
    "    from emodpy_tbhiv.interventions import purge_campaign_event\n",
    "\n",
    "    # Seed the outbreak\n",
    "    camp.schema_path = manifest.schema_file\n",
    "    seed = ob.seed_by_coverage( camp, outbreak_start_day, 0.05 )\n",
    "    purge_campaign_event( seed )\n",
    "    camp.add( seed, first=True )\n",
    "\n",
    "    # Create our campaign with interventions. Some are scheduled...\n",
    "    camp.add( art.ART( camp, [\"TBActivationPresymptomatic\"], start_day=art_start ) )\n",
    "    camp.add( bcg.BCG( camp, [\"TBActivationPresymptomatic\"], start_day=art_start ) )\n",
    "    \n",
    "    # And others are triggered\n",
    "    camp.add( ad.ActiveDiagnostic( camp, [\"TBActivationPresymptomatic\"], start_day=art_start, pos_event=\"Hello\" ) )\n",
    "    camp.add( hd.HIVDiagnostic( camp, [\"TBActivationPresymptomatic\"], start_day=art_start, pos_event=\"Oh_No_I_Have_HIV\", neg_event=\"Yay\" ) )\n",
    "    \n",
    "    return camp\n",
    "\n",
    "def update_campaign_start_day(simulation, value):\n",
    "    value = value * 365\n",
    "    build_campaign_partial = partial(build_camp, outbreak_start_day=40, art_start=value)\n",
    "    simulation.task.create_campaign_from_callback(build_campaign_partial)\n",
    "    return {\"campaign_start_day\": value}\n",
    "\n",
    "builder = SimulationBuilder()\n",
    "builder.add_sweep_definition( update_campaign_start_day, range(10) )\n",
    "\n",
    "experiment_id = run_test()\n",
    "\n",
    "from downloader import download as dl\n",
    "manifest.output_dl_folder = str(experiment_id)\n",
    "dl(manifest.output_dl_folder, files_to_get=\"output/ReportEventRecorder.csv\")\n",
    "\n",
    "import json\n",
    "import csv\n",
    "from collections import defaultdict\n",
    "import matplotlib.pyplot as plt\n",
    "fig, axs = plt.subplots(10)\n",
    "idx = 0\n",
    "\n",
    "for sim in os.listdir(manifest.output_dl_folder):\n",
    "    arts = defaultdict(int)\n",
    "    arts[0] = 0\n",
    "    with open( manifest.output_dl_folder + \"/\" + sim + \"/\" + \"output/ReportEventRecorder.csv\", 'r') as csv_file:\n",
    "        reader = csv.reader(csv_file)\n",
    "        for row in reader:\n",
    "            if row[0] == 'Time':\n",
    "                continue\n",
    "            time = int(row[0])\n",
    "            event = row[2]\n",
    "            if event == \"ArtDistributed\":\n",
    "                arts[time] += 1\n",
    "    if len(arts)>0:\n",
    "        lists = sorted(arts.items()) # sorted by key, return a list of tuples\n",
    "        x, y = zip(*lists) # unpack a list of pairs into two tuples\n",
    "        #plt.bar(x, y, width=10)\n",
    "        axs[idx].bar(x, y, width=30)\n",
    "    idx += 1"
   ]
  }
 ],
 "metadata": {
  "kernelspec": {
   "display_name": "Python 3",
   "language": "python",
   "name": "python3"
  },
  "language_info": {
   "codemirror_mode": {
    "name": "ipython",
    "version": 3
   },
   "file_extension": ".py",
   "mimetype": "text/x-python",
   "name": "python",
   "nbconvert_exporter": "python",
   "pygments_lexer": "ipython3",
   "version": "3.6.8"
  }
 },
 "nbformat": 4,
 "nbformat_minor": 5
}
