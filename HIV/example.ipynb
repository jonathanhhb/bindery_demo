{
 "cells": [
  {
   "cell_type": "markdown",
   "id": "92280883",
   "metadata": {},
   "source": [
    "# emodpy-hiv simple campaign example\n",
    "This notebook provides a example of using emodpy-hiv to commission an EMOD (DTK) simulation of HIV transmission on COMPS. It uses publicly available demographics data from Uganda. First, we will import all required packages."
   ]
  },
  {
   "cell_type": "code",
   "execution_count": 1,
   "id": "a433f3f7",
   "metadata": {},
   "outputs": [],
   "source": [
    "import workspace"
   ]
  },
  {
   "cell_type": "code",
   "execution_count": 2,
   "id": "c0ca4a5b",
   "metadata": {},
   "outputs": [],
   "source": [
    "import pathlib # for a join\n",
    "from functools import partial  # for setting Run_Number. In Jonathan Future World, Run_Number is set by dtk_pre_proc based on generic param_sweep_value...\n",
    "import os\n",
    "\n",
    "# idmtools ...\n",
    "from idmtools.assets import Asset, AssetCollection  #\n",
    "from idmtools.builders import SimulationBuilder\n",
    "from idmtools.core.platform_factory import Platform\n",
    "from idmtools.entities.experiment import Experiment\n",
    "from idmtools_platform_comps.utils.python_requirements_ac.requirements_to_asset_collection import RequirementsToAssetCollection\n",
    "from idmtools_models.templated_script_task import get_script_wrapper_unix_task\n",
    "\n",
    "# emodpy\n",
    "from emodpy.emod_task import EMODTask\n",
    "from emodpy.utils import EradicationBambooBuilds\n",
    "from emodpy.bamboo import get_model_files\n",
    "from emodpy_hiv.interventions.cascade_helpers import *\n",
    "import emodpy_hiv.interventions.utils as hiv_utils\n",
    "import emod_api.interventions.common as comm\n",
    "from emodpy_hiv.download import download\n",
    "\n",
    "import params\n",
    "import manifest\n",
    "import campaign_knobs as ck\n",
    "\n",
    "ART_eligible_tag=\"Accessibility:Easy\""
   ]
  },
  {
   "cell_type": "markdown",
   "id": "76fb4d67",
   "metadata": {},
   "source": [
    "We will start with a baseline campaign that only infects and transmits HIV in the population before adding additional factors like STI co-infection or antiretroviral (ART) distribution."
   ]
  },
  {
   "cell_type": "code",
   "execution_count": 3,
   "id": "f216ac03",
   "metadata": {},
   "outputs": [],
   "source": [
    "def build_camp( art_coverage = 1.0 ):\n",
    "    \"\"\"\n",
    "        Build a campaign input file for the DTK using emod_api type functions or helpers from this module. \n",
    "        Note that 'camp' is short for 'campaign'.\n",
    "        You can name this function whatever you want, it just has to match what you pass in from_default2.\n",
    "    \"\"\"\n",
    "\n",
    "    # Setup\n",
    "    import emod_api.campaign as camp\n",
    "    camp.set_schema( manifest.schema_file )\n",
    "\n",
    "    def timestep_from_year( year ):\n",
    "        return (year-params.base_year)*365\n",
    "\n",
    "    # Crudely seed the infection\n",
    "    event = ob.seed_infections( camp, start_day=timestep_from_year( 1961.5 ) )\n",
    "    camp.add( event )\n",
    "\n",
    "    return camp"
   ]
  },
  {
   "cell_type": "markdown",
   "id": "3bdcea27",
   "metadata": {},
   "source": [
    "Next, we add a few small functions to help with parameter sweeps."
   ]
  },
  {
   "cell_type": "code",
   "execution_count": 4,
   "id": "a477e1c4",
   "metadata": {},
   "outputs": [],
   "source": [
    "def update_sim_bic(simulation, value):\n",
    "    \"\"\"\n",
    "        Update the value of a (scientific) configuration parameter, in this case Base_Infectivity_Constant \n",
    "        (which may or may not be part of this sim_type's parameters), as part of a sweep.\n",
    "    \"\"\"\n",
    "    simulation.task.config.parameters.Base_Infectivity_Constant = value*0.1\n",
    "    return {\"Base_Infectivity\": value}\n",
    "\n",
    "def update_sim_random_seed(simulation, value):\n",
    "    \"\"\"\n",
    "        Update the value of the Run_Number as part of the most basic configuration sweep example.\n",
    "    \"\"\"\n",
    "    simulation.task.config.parameters.Run_Number = 3\n",
    "\n",
    "def art_coverage_test_sweep( simulation, sweep_param ):\n",
    "    art_coverage = sweep_param/10.0\n",
    "    build_campaign_partial = partial( build_camp, art_coverage )\n",
    "    simulation.task.create_campaign_from_callback( build_campaign_partial )\n",
    "    return {\"ART_Target_Coverage\": art_coverage }"
   ]
  },
  {
   "cell_type": "markdown",
   "id": "2fe5482f",
   "metadata": {},
   "source": [
    "This function builds the EMOD configuration file:"
   ]
  },
  {
   "cell_type": "code",
   "execution_count": 5,
   "id": "d97797e8",
   "metadata": {},
   "outputs": [],
   "source": [
    "def set_param_fn( config ):\n",
    "    \"\"\"\n",
    "        Set the configuration parameters. Every parameter must be in the schema and every value must be valid\n",
    "        per the schema. You usually don't need to set Enable's as they are set implicitly now. Refer to the schema\n",
    "        for the possible params for your model. You can name this function whatever you want, it just has to \n",
    "        match what you pass in from_default2.\n",
    "    \"\"\"\n",
    "    config.parameters.Simulation_Duration = 35300\n",
    "    config.parameters.Simulation_Timestep = 30.4166666666667\n",
    "    config.parameters.Start_Time = 0\n",
    "    config.parameters.Base_Year = params.base_year\n",
    "    config.parameters.Run_Number = 11016\n",
    "\n",
    "    # config hacks until schema fixes arrive\n",
    "    config.parameters.pop( \"Serialized_Population_Filenames\" )\n",
    "    config.parameters.pop( \"Serialization_Time_Steps\" )\n",
    "\n",
    "    import conf\n",
    "    conf.set_config( config )\n",
    "    config.parameters.Report_Event_Recorder_Events = [\n",
    "      \"NewInfectionEvent\",\n",
    "      \"HIVSymptomatic\",\n",
    "      \"STIDebut\"\n",
    "    ]\n",
    "\n",
    "    import emodpy_hiv.utils as config_utils\n",
    "    config_utils.non_schema_checks( config )\n",
    "\n",
    "    return config"
   ]
  },
  {
   "cell_type": "markdown",
   "id": "86bdcaed",
   "metadata": {},
   "source": [
    "This function builds the EMOD demographics file:"
   ]
  },
  {
   "cell_type": "code",
   "execution_count": 6,
   "id": "9741095d",
   "metadata": {},
   "outputs": [],
   "source": [
    "def build_demog():\n",
    "    \"\"\"\n",
    "        Build a demographics input file for the DTK using emod_api. \n",
    "    \"\"\"\n",
    "    import emodpy_hiv.demographics.HIVDemographics as Demographics # OK to call into emod-api\n",
    "    import emod_api.demographics.Demographics as demo\n",
    "    import emod_api.demographics.DemographicsTemplates as DT\n",
    "\n",
    "    demog = Demographics.from_template_node( lat=0, lon=0, pop=100000, name=1, forced_id=1 )\n",
    "    demog.SetEquilibriumAgeDistFromBirthAndMortRates()\n",
    "    demog.fertility( \"Malawi_Fertility_Historical.csv\" )\n",
    "    demog.mortality( \"Malawi_male_mortality.csv\", \"Malawi_female_mortality.csv\" )\n",
    "\n",
    "    demog.AddIndividualPropertyAndHINT( Property=\"Accessibility\", Values=[\"Easy\",\"Hard\"], InitialDistribution=[0.0, 1.0] )\n",
    "    demog.AddIndividualPropertyAndHINT( Property=\"Risk\", Values=[\"LOW\",\"MEDIUM\",\"HIGH\"], InitialDistribution=[0.99, 0, 0.01] )\n",
    "    demog.AddIndividualPropertyAndHINT( Property=\"TestingStatus\", Values=[\"INELIGIBLE\",\"ELIGIBLE\"], InitialDistribution=[1.0, 0 ] )\n",
    "    demog.apply_assortivity( \"COMMERCIAL\", [ [1,1,1],[1,1,1],[1,1,1] ] )\n",
    "\n",
    "    return demog"
   ]
  },
  {
   "cell_type": "markdown",
   "id": "c341a127",
   "metadata": {},
   "source": [
    "With those input files created, we are now ready to define the compute platform. We're going to run on the Calculon environment (on COMPS)."
   ]
  },
  {
   "cell_type": "code",
   "execution_count": 7,
   "id": "989f7406",
   "metadata": {},
   "outputs": [
    {
     "name": "stdout",
     "output_type": "stream",
     "text": [
      "\n",
      "[Calculon]\n",
      "{\n",
      "   \"endpoint\": \"https://comps.idmod.org\",\n",
      "   \"environment\": \"Calculon\"\n",
      "}\n"
     ]
    }
   ],
   "source": [
    "platform = Platform(\"Calculon\", node_group=\"idm_48cores\", priority=\"Highest\") "
   ]
  },
  {
   "cell_type": "markdown",
   "id": "477c7879",
   "metadata": {},
   "source": [
    "Next we download some CSV input files containing demographics data from the data server."
   ]
  },
  {
   "cell_type": "code",
   "execution_count": 8,
   "id": "31d8c2da",
   "metadata": {},
   "outputs": [
    {
     "name": "stdout",
     "output_type": "stream",
     "text": [
      "--2021-10-06 13:43:08--  http://ipadvweb02.linux.idm.ctr:8000/Malawi/Malawi_Fertility_Historical.csv\n",
      "Resolving ipadvweb02.linux.idm.ctr (ipadvweb02.linux.idm.ctr)... 10.24.40.12\n",
      "Connecting to ipadvweb02.linux.idm.ctr (ipadvweb02.linux.idm.ctr)|10.24.40.12|:8000... connected.\n",
      "HTTP request sent, awaiting response... 200 OK\n",
      "Length: 1194 (1.2K) [text/csv]\n",
      "Saving to: ‘Malawi_Fertility_Historical.csv.1’\n",
      "\n",
      "Malawi_Fertility_Hi 100%[===================>]   1.17K  --.-KB/s    in 0s      \n",
      "\n",
      "2021-10-06 13:43:08 (231 MB/s) - ‘Malawi_Fertility_Historical.csv.1’ saved [1194/1194]\n",
      "\n",
      "--2021-10-06 13:43:08--  http://ipadvweb02.linux.idm.ctr:8000/Malawi/Malawi_female_mortality.csv\n",
      "Resolving ipadvweb02.linux.idm.ctr (ipadvweb02.linux.idm.ctr)... 10.24.40.12\n",
      "Connecting to ipadvweb02.linux.idm.ctr (ipadvweb02.linux.idm.ctr)|10.24.40.12|:8000... connected.\n",
      "HTTP request sent, awaiting response... 200 OK\n",
      "Length: 13606 (13K) [text/csv]\n",
      "Saving to: ‘Malawi_female_mortality.csv.1’\n",
      "\n",
      "Malawi_female_morta 100%[===================>]  13.29K  --.-KB/s    in 0s      \n",
      "\n",
      "2021-10-06 13:43:08 (455 MB/s) - ‘Malawi_female_mortality.csv.1’ saved [13606/13606]\n",
      "\n",
      "--2021-10-06 13:43:08--  http://ipadvweb02.linux.idm.ctr:8000/Malawi/Malawi_male_mortality.csv\n",
      "Resolving ipadvweb02.linux.idm.ctr (ipadvweb02.linux.idm.ctr)... 10.24.40.12\n",
      "Connecting to ipadvweb02.linux.idm.ctr (ipadvweb02.linux.idm.ctr)|10.24.40.12|:8000... connected.\n",
      "HTTP request sent, awaiting response... 200 OK\n",
      "Length: 17619 (17K) [text/csv]\n",
      "Saving to: ‘Malawi_male_mortality.csv.1’\n",
      "\n",
      "Malawi_male_mortali 100%[===================>]  17.21K  --.-KB/s    in 0s      \n",
      "\n",
      "2021-10-06 13:43:08 (186 MB/s) - ‘Malawi_male_mortality.csv.1’ saved [17619/17619]\n",
      "\n"
     ]
    }
   ],
   "source": [
    "!wget \"http://ipadvweb02.linux.idm.ctr:8000/Malawi/Malawi_Fertility_Historical.csv\"\n",
    "!wget \"http://ipadvweb02.linux.idm.ctr:8000/Malawi/Malawi_female_mortality.csv\"\n",
    "!wget \"http://ipadvweb02.linux.idm.ctr:8000/Malawi/Malawi_male_mortality.csv\""
   ]
  },
  {
   "cell_type": "code",
   "execution_count": 9,
   "id": "4aee5cfb",
   "metadata": {},
   "outputs": [],
   "source": [
    "import emod_hiv.bootstrap as dtk\n",
    "dtk.setup(pathlib.Path(manifest.eradication_path).parent)"
   ]
  },
  {
   "cell_type": "code",
   "execution_count": 10,
   "id": "6e537883",
   "metadata": {},
   "outputs": [
    {
     "name": "stdout",
     "output_type": "stream",
     "text": [
      "Wrote 'default_config.json' file.\n",
      "DEBUG: write_config_from_default_and_params invoked with default_config.json, <function set_param_fn at 0x7f674245b598>.\n",
      "DEBUG: Calling load_default_config_as_rod.\n",
      "DEBUG: Calling set_fn.\n",
      "Fertility data file column names are ountry, NA, ID, Nothing, AreaCode, Years, 15-19, 20-24, 25-29, 30-34, 35-39, 40-45, 45-49\n",
      "Found 15 rows of fertility data.\n",
      "Generating demographics file demographics.json.\n",
      "WARNING: During schema-based param purge, Intervention_Name not in schema.\n",
      "Campaign builder save returned campaign.json as file.\n"
     ]
    }
   ],
   "source": [
    "task = EMODTask.from_default2(config_path=\"config.json\", eradication_path=manifest.eradication_path, campaign_builder=build_camp, demog_builder=build_demog, schema_path=manifest.schema_file, param_custom_cb=set_param_fn, ep4_custom_cb=None)\n",
    "task.set_sif( \"dtk_centos.id\" )"
   ]
  },
  {
   "cell_type": "code",
   "execution_count": 11,
   "id": "42971b3d",
   "metadata": {},
   "outputs": [],
   "source": [
    "builder = SimulationBuilder()\n",
    "builder.add_sweep_definition( art_coverage_test_sweep, range(params.nSims) )\n",
    "experiment = Experiment.from_builder(builder, task, name=params.exp_name) "
   ]
  },
  {
   "cell_type": "code",
   "execution_count": 12,
   "id": "12eb9b3d",
   "metadata": {},
   "outputs": [
    {
     "name": "stdout",
     "output_type": "stream",
     "text": [
      "\n",
      "The created experiment can be viewed at https://comps.idmod.org/#explore/Simulations?filters=ExperimentId=c3f581fb-cc26-ec11-9ecd-9440c9bee941\n",
      "Simulations are still being created\n",
      "\n"
     ]
    },
    {
     "name": "stderr",
     "output_type": "stream",
     "text": [
      "\r",
      "Initializing objects for creation: 0simulation [00:00, ?simulation/s]"
     ]
    },
    {
     "name": "stdout",
     "output_type": "stream",
     "text": [
      "WARNING: During schema-based param purge, Intervention_Name not in schema.\n",
      "Campaign builder save returned campaign.json as file.\n"
     ]
    },
    {
     "name": "stderr",
     "output_type": "stream",
     "text": [
      "Creating Simulations on Comps:   0%|          | 0/1 [00:00<?, ?simulation/s]        "
     ]
    },
    {
     "name": "stdout",
     "output_type": "stream",
     "text": [
      "WARNING: During schema-based param purge, Enable_Continuous_Log_Flushing not in schema.\n",
      "WARNING: During schema-based param purge, logLevel_default not in schema.\n",
      "WARNING: During schema-based param purge, Disable_IP_Whitelist not in schema.\n"
     ]
    },
    {
     "name": "stderr",
     "output_type": "stream",
     "text": [
      "Creating Simulations on Comps: 100%|██████████| 1/1 [00:00<00:00,  6.77simulation/s]\n",
      "Waiting on Experiment HIV Rakai Simpler CoC to Finish running: 100%|██████████| 1/1 [00:30<00:00, 30.68s/simulation]"
     ]
    },
    {
     "name": "stdout",
     "output_type": "stream",
     "text": [
      "Experiment c3f581fbcc26ec119ecd9440c9bee941 succeeded.\n",
      "\n",
      "[Calculon]\n",
      "{\n",
      "   \"endpoint\": \"https://comps.idmod.org\",\n",
      "   \"environment\": \"Calculon\"\n",
      "}\n"
     ]
    },
    {
     "name": "stderr",
     "output_type": "stream",
     "text": [
      "\n"
     ]
    },
    {
     "name": "stdout",
     "output_type": "stream",
     "text": [
      "Attempting to download ['output/InsetChart.json'] for experiment c3f581fbcc26ec119ecd9440c9bee941 into COMPS_output_downloads.\n",
      "Creating Watcher\n",
      "\n",
      "The running WorkItem can be viewed at https://comps.idmod.org/#explore/WorkItems?filters=Id=7b71210e-cd26-ec11-9ecd-9440c9bee941\n",
      "\n"
     ]
    },
    {
     "name": "stderr",
     "output_type": "stream",
     "text": [
      "Waiting on WorkItem Filter outputs for Experiment c3f581fb-cc26-ec11-9ecd-9440c9bee941: 100%|██████████| 1/1 [00:05<00:00,  5.08s/workitem]\n",
      "Downloading Files: 100%|██████████| 59.7k/59.7k [00:00<00:00, 1.12MB/s]"
     ]
    },
    {
     "name": "stdout",
     "output_type": "stream",
     "text": [
      "Removing COMPS_output_downloads/output.zip\n",
      "Deleting workitem 7b71210e-cd26-ec11-9ecd-9440c9bee941\n"
     ]
    },
    {
     "name": "stderr",
     "output_type": "stream",
     "text": [
      "\n"
     ]
    }
   ],
   "source": [
    "experiment.run(wait_until_done=True, platform=platform)\n",
    "\n",
    "# Check result\n",
    "if not experiment.succeeded:\n",
    "    print(f\"Experiment {experiment.uid} failed.\\n\")\n",
    "    exit()\n",
    "\n",
    "print(f\"Experiment {experiment.uid.hex} succeeded.\")\n",
    "\n",
    "manifest.output_files_to_get = \"output/InsetChart.json\"\n",
    "download( experiment.uid.hex, manifest.output_dl_folder, manifest.output_files_to_get )"
   ]
  },
  {
   "cell_type": "code",
   "execution_count": 13,
   "id": "d1e4ee45",
   "metadata": {},
   "outputs": [
    {
     "data": {
      "text/plain": [
       "[<matplotlib.lines.Line2D at 0x7f67413659b0>]"
      ]
     },
     "execution_count": 13,
     "metadata": {},
     "output_type": "execute_result"
    },
    {
     "data": {
      "image/png": "[encoded data removed]",
      "text/plain": [
       "<Figure size 432x288 with 1 Axes>"
      ]
     },
     "metadata": {
      "needs_background": "light"
     },
     "output_type": "display_data"
    }
   ],
   "source": [
    "simdir = os.listdir( manifest.output_dl_folder )[-1]\n",
    "import json\n",
    "hiv_prev_baseline = json.load( open( manifest.output_dl_folder + \"/\" + simdir + \"/output/InsetChart.json\" ) )[\"Channels\"][\"Infected\"][\"Data\"]\n",
    "import matplotlib.pyplot as plt\n",
    "plt.plot( hiv_prev_baseline )"
   ]
  },
  {
   "cell_type": "markdown",
   "id": "48938ede",
   "metadata": {},
   "source": [
    "Now let's add some detail to the model by incorporating STI co-infections. We distribute STIs to certain percentages of the population, which then increases an individual's risk of acquiring HIV upon exposure."
   ]
  },
  {
   "cell_type": "code",
   "execution_count": 14,
   "id": "7bd5eeff",
   "metadata": {},
   "outputs": [],
   "source": [
    "def _add_sti_by_risk_and_coverage( camp, risk, coverage, include_ongoing=True ):\n",
    "    \"\"\"\n",
    "    Internal function to do the \"dirty work\" to support add_sti_coinfection_complex.\n",
    "    1) Add a 'scheduled' campaign event to give some %age of people in a given risk group an STI (co-)infection.\n",
    "    2) Optionally add a 'triggered' campaign event (at STIDebut) to give some %age of people in a given risk group an STI (co-)infection.\n",
    "    \"\"\"\n",
    "    import emodpy_hiv.interventions.modcoinf as coinf\n",
    "    set_sti_coinf = coinf.new_intervention( camp )\n",
    "    set_sti_coinf[\"Intervention_Name\"] = \"Pick_Up_A_Nasty\"\n",
    "    signal = hiv_utils.broadcast_event_immediate( camp, \"CaughtNonHIVSTI\" )\n",
    "\n",
    "    event = comm.ScheduledCampaignEvent( camp, Start_Day=1, Event_Name=\"STI Co-Infection Setup\", Intervention_List=[set_sti_coinf,signal], Property_Restrictions=risk, Demographic_Coverage=coverage )\n",
    "    event.Event_Coordinator_Config.pop( \"Targeting_Config\" )\n",
    "    camp.add( event )\n",
    "\n",
    "    if include_ongoing:\n",
    "        add_triggered_event( camp, in_trigger=\"STIDebut\", out_iv=[set_sti_coinf,signal], coverage=coverage, target_risk=risk, event_name=\"STI Co-Infection Setup\" )\n",
    "\n",
    "\n",
    "def add_sti_coinfection_complex( camp, low_coverage=0.1, med_coverage=0.3, high_coverage=0.3 ):\n",
    "    \"\"\"\n",
    "    # ScheduledCampaignEvent @ t=0:\n",
    "    Folks with Risk=LOW get one prob (10%) of STI CoInf\n",
    "    Folks with Risk=MED or HIGH get another prob (30%) of STI CoInf\n",
    "\n",
    "    TriggeredCampaigEvent @ OnDebut:\n",
    "        Same thing as above.\n",
    "    \"\"\"\n",
    "    _add_sti_by_risk_and_coverage( camp, \"Risk:LOW\", low_coverage, include_ongoing=True )\n",
    "    _add_sti_by_risk_and_coverage( camp, \"Risk:MEDIUM\", med_coverage, include_ongoing=True )\n",
    "    _add_sti_by_risk_and_coverage( camp, \"Risk:HIGH\", high_coverage, include_ongoing=True )"
   ]
  },
  {
   "cell_type": "markdown",
   "id": "364b3952",
   "metadata": {},
   "source": [
    "Now we add the STI co-infections to the campaign and run the simulation again."
   ]
  },
  {
   "cell_type": "code",
   "execution_count": 15,
   "id": "f4e8541d",
   "metadata": {},
   "outputs": [
    {
     "name": "stdout",
     "output_type": "stream",
     "text": [
      "Wrote 'default_config.json' file.\n",
      "DEBUG: write_config_from_default_and_params invoked with default_config.json, <function set_param_fn at 0x7f674245b598>.\n",
      "DEBUG: Calling load_default_config_as_rod.\n",
      "DEBUG: Calling set_fn.\n",
      "Fertility data file column names are ountry, NA, ID, Nothing, AreaCode, Years, 15-19, 20-24, 25-29, 30-34, 35-39, 40-45, 45-49\n",
      "Found 15 rows of fertility data.\n",
      "Generating demographics file demographics.json.\n",
      "WARNING: During schema-based param purge, Intervention_Name not in schema.\n",
      "WARNING: During schema-based param purge, Intervention_Name not in schema.\n",
      "WARNING: During schema-based param purge, Intervention_Name not in schema.\n",
      "WARNING: During schema-based param purge, Intervention_Name not in schema.\n",
      "WARNING: During schema-based param purge, Intervention_Name not in schema.\n",
      "WARNING: During schema-based param purge, Intervention_Name not in schema.\n",
      "WARNING: During schema-based param purge, Intervention_Name not in schema.\n",
      "Campaign is publishing the following events:\n",
      "CaughtNonHIVSTI\n",
      "Campaign is listening to the following events:\n",
      "STIDebut\n",
      "Campaign is IGNORING the following events:\n",
      "CaughtNonHIVSTI\n",
      "Campaign is LISTENING to the following non-campaign events:\n",
      "STIDebut\n",
      "Campaign builder save returned campaign.json as file.\n",
      "Found adhoc events in campaign. Needs some special processing behind the scenes.\n",
      "\n",
      "The created experiment can be viewed at https://comps.idmod.org/#explore/Simulations?filters=ExperimentId=92eb9f18-cd26-ec11-9ecd-9440c9bee941\n",
      "Simulations are still being created\n",
      "\n"
     ]
    },
    {
     "name": "stderr",
     "output_type": "stream",
     "text": [
      "\r",
      "Initializing objects for creation: 0simulation [00:00, ?simulation/s]"
     ]
    },
    {
     "name": "stdout",
     "output_type": "stream",
     "text": [
      "WARNING: During schema-based param purge, Intervention_Name not in schema.\n",
      "WARNING: During schema-based param purge, Intervention_Name not in schema.\n",
      "WARNING: During schema-based param purge, Intervention_Name not in schema.\n",
      "WARNING: During schema-based param purge, Intervention_Name not in schema.\n",
      "WARNING: During schema-based param purge, Intervention_Name not in schema.\n",
      "WARNING: During schema-based param purge, Intervention_Name not in schema.\n",
      "WARNING: During schema-based param purge, Intervention_Name not in schema.\n",
      "Campaign is publishing the following events:\n",
      "CaughtNonHIVSTI\n",
      "Campaign is listening to the following events:\n",
      "STIDebut\n",
      "Campaign is IGNORING the following events:\n",
      "CaughtNonHIVSTI\n",
      "Campaign is LISTENING to the following non-campaign events:\n",
      "STIDebut\n",
      "Campaign builder save returned campaign.json as file.\n"
     ]
    },
    {
     "name": "stderr",
     "output_type": "stream",
     "text": [
      "Creating Simulations on Comps:   0%|          | 0/1 [00:00<?, ?simulation/s]            "
     ]
    },
    {
     "name": "stdout",
     "output_type": "stream",
     "text": [
      "Found adhoc events in campaign. Needs some special processing behind the scenes.\n",
      "WARNING: During schema-based param purge, Enable_Continuous_Log_Flushing not in schema.\n",
      "WARNING: During schema-based param purge, logLevel_default not in schema.\n",
      "WARNING: During schema-based param purge, Disable_IP_Whitelist not in schema.\n"
     ]
    },
    {
     "name": "stderr",
     "output_type": "stream",
     "text": [
      "Creating Simulations on Comps: 100%|██████████| 1/1 [00:00<00:00, 14.63simulation/s]\n",
      "Waiting on Experiment HIV Rakai Simpler CoC to Finish running: 100%|██████████| 1/1 [00:50<00:00, 50.78s/simulation]\n"
     ]
    }
   ],
   "source": [
    "def build_camp( art_coverage = 1.0 ):\n",
    "    \"\"\"\n",
    "        Build a campaign input file for the DTK using emod_api type functions or helpers from this module. \n",
    "        Note that 'camp' is short for 'campaign'.\n",
    "        You can name this function whatever you want, it just has to match what you pass in from_default2.\n",
    "    \"\"\"\n",
    "\n",
    "    # Setup\n",
    "    import emod_api.campaign as camp\n",
    "    camp.set_schema( manifest.schema_file )\n",
    "\n",
    "    def timestep_from_year( year ):\n",
    "        return (year-params.base_year)*365\n",
    "\n",
    "    # Crudely seed the infection\n",
    "    event = ob.seed_infections( camp, start_day=timestep_from_year( 1961.5 ) )\n",
    "    camp.add( event )\n",
    "\n",
    "    add_sti_coinfection_complex(camp, ck.STI_Low_Risk_Coverage, ck.STI_Med_Risk_Coverage, ck.STI_High_Risk_Coverage)\n",
    "    return camp\n",
    "\n",
    "task = EMODTask.from_default2(config_path=\"config.json\", eradication_path=manifest.eradication_path, campaign_builder=build_camp, demog_builder=build_demog, schema_path=manifest.schema_file, param_custom_cb=set_param_fn, ep4_custom_cb=None)\n",
    "experiment  = Experiment.from_builder(builder, task, name=params.exp_name) \n",
    "experiment.run(wait_until_done=True, platform=platform)"
   ]
  },
  {
   "cell_type": "code",
   "execution_count": 16,
   "id": "a2774d25",
   "metadata": {},
   "outputs": [
    {
     "name": "stdout",
     "output_type": "stream",
     "text": [
      "\n",
      "[Calculon]\n",
      "{\n",
      "   \"endpoint\": \"https://comps.idmod.org\",\n",
      "   \"environment\": \"Calculon\"\n",
      "}\n",
      "Attempting to download ['output/InsetChart.json'] for experiment 92eb9f18cd26ec119ecd9440c9bee941 into COMPS_output_downloads.\n",
      "Creating Watcher\n",
      "\n",
      "The running WorkItem can be viewed at https://comps.idmod.org/#explore/WorkItems?filters=Id=49bdca34-cd26-ec11-9ecd-9440c9bee941\n",
      "\n"
     ]
    },
    {
     "name": "stderr",
     "output_type": "stream",
     "text": [
      "Waiting on WorkItem Filter outputs for Experiment 92eb9f18-cd26-ec11-9ecd-9440c9bee941: 100%|██████████| 1/1 [00:10<00:00, 10.15s/workitem]\n",
      "Downloading Files: 100%|██████████| 60.2k/60.2k [00:00<00:00, 1.18MB/s]"
     ]
    },
    {
     "name": "stdout",
     "output_type": "stream",
     "text": [
      "Removing COMPS_output_downloads/output.zip\n",
      "Deleting workitem 49bdca34-cd26-ec11-9ecd-9440c9bee941\n"
     ]
    },
    {
     "name": "stderr",
     "output_type": "stream",
     "text": [
      "\n"
     ]
    },
    {
     "data": {
      "text/plain": [
       "[<matplotlib.lines.Line2D at 0x7f67434f3e48>]"
      ]
     },
     "execution_count": 16,
     "metadata": {},
     "output_type": "execute_result"
    },
    {
     "data": {
      "image/png": "[encoded data removed]",
      "text/plain": [
       "<Figure size 432x288 with 1 Axes>"
      ]
     },
     "metadata": {
      "needs_background": "light"
     },
     "output_type": "display_data"
    }
   ],
   "source": [
    "download( experiment.uid.hex, manifest.output_dl_folder, manifest.output_files_to_get )\n",
    "subdir = os.listdir(manifest.output_dl_folder)[-1]\n",
    "hiv_prev = json.load( open( manifest.output_dl_folder + \"/\" + subdir + \"/\" + \"output/InsetChart.json\" ) )[\"Channels\"][\"Infected\"][\"Data\"]\n",
    "plt.plot( hiv_prev_baseline )\n",
    "plt.plot( hiv_prev )"
   ]
  },
  {
   "cell_type": "markdown",
   "id": "ca3b6ffd",
   "metadata": {},
   "source": [
    "You can see that adding STI co-infection has made quite a difference (baseline in blue)."
   ]
  },
  {
   "cell_type": "markdown",
   "id": "3ac5cc36",
   "metadata": {},
   "source": [
    "Now we're going to layer in \"Commercial Sex Workers\" (CSWs) as follows:"
   ]
  },
  {
   "cell_type": "code",
   "execution_count": 17,
   "id": "5634d786",
   "metadata": {},
   "outputs": [],
   "source": [
    "def add_csw( camp ):\n",
    "    # STIDebut -(HIVDelay)-> Uptake -(PVC)-> Dropout (PVC)\n",
    "    male_delayed_uptake = hiv_utils.broadcast_event_delayed( camp, \"CSW_Uptake\", delay={ \"Delay_Period_Mean\": ck.CSW_Male_Uptake_Delay, \"Delay_Period_Std_Dev\": 30.0 } )\n",
    "    female_delayed_uptake = hiv_utils.broadcast_event_delayed( camp, \"CSW_Uptake\", delay={ \"Delay_Period\": ck.CSW_Male_Uptake_Delay } )\n",
    "\n",
    "    # 1: STIDebut->Uptake delay (males)\n",
    "    add_triggered_event( camp, in_trigger=\"STIDebut\", out_iv=male_delayed_uptake, event_name=\"Male CSW Debut->Uptake\", coverage=ck.CSW_Male_Uptake_Coverage, target_sex=\"Male\" )\n",
    "\n",
    "    # 2: STIDebut->Uptake delay (females)\n",
    "    add_triggered_event( camp, in_trigger=\"STIDebut\", out_iv=female_delayed_uptake, event_name=\"Female CSW Debut->Uptake\", coverage=ck.CSW_Female_Uptake_Coverage, target_sex=\"Female\" )\n",
    "\n",
    "    # 4: Uptake->Dropout delay (males)\n",
    "    male_delayed_dropout = hiv_utils.broadcast_event_delayed( camp, \"CSW_Dropout\", delay={ \"Delay_Period\": ck.CSW_Male_Dropout_Delay } )\n",
    "    female_delayed_dropout = hiv_utils.broadcast_event_delayed( camp, \"CSW_Dropout\", delay={ \"Delay_Period\": ck.CSW_Female_Dropout_Delay } )\n",
    "\n",
    "    add_triggered_event( camp, in_trigger=\"CSW_Uptake\", out_iv=male_delayed_dropout, event_name=\"Male CSW Uptake->Dropout\", coverage=ck.CSW_Male_Dropout_Coverage, target_sex=\"Male\" )\n",
    "\n",
    "    # 5: Uptake->Dropout delay (females)\n",
    "    add_triggered_event( camp, in_trigger=\"CSW_Uptake\", out_iv=female_delayed_dropout, event_name=\"Female CSW Uptake->Dropout\", coverage=ck.CSW_Female_Dropout_Coverage, target_sex=\"Female\" )\n",
    "     \n",
    "    # 3: Actually do the CSW Uptake (via PropertyValueChanger)\n",
    "    pvc_go_high = comm.PropertyValueChanger( camp, Target_Property_Key=\"Risk\", Target_Property_Value=\"HIGH\", New_Property_Value=\"\" )\n",
    "    add_triggered_event( camp, in_trigger=\"CSW_Uptake\", out_iv=pvc_go_high, event_name=\"CSW Uptake\" )\n",
    "\n",
    "    # 6: Actually do the CSW Dropout (via PropertyValueChanger)\n",
    "    pvc_go_med = comm.PropertyValueChanger( camp, Target_Property_Key=\"Risk\", Target_Property_Value=\"MEDIUM\", New_Property_Value=\"\" )\n",
    "    add_triggered_event( camp, in_trigger=\"CSW_Dropout\", out_iv=pvc_go_high, event_name=\"CSW Dropout\" )"
   ]
  },
  {
   "cell_type": "code",
   "execution_count": 18,
   "id": "40eb51c0",
   "metadata": {},
   "outputs": [
    {
     "name": "stdout",
     "output_type": "stream",
     "text": [
      "Wrote 'default_config.json' file.\n",
      "DEBUG: write_config_from_default_and_params invoked with default_config.json, <function set_param_fn at 0x7f674245b598>.\n",
      "DEBUG: Calling load_default_config_as_rod.\n",
      "DEBUG: Calling set_fn.\n",
      "Fertility data file column names are ountry, NA, ID, Nothing, AreaCode, Years, 15-19, 20-24, 25-29, 30-34, 35-39, 40-45, 45-49\n",
      "Found 15 rows of fertility data.\n",
      "Generating demographics file demographics.json.\n",
      "WARNING: During schema-based param purge, Intervention_Name not in schema.\n",
      "WARNING: During schema-based param purge, Intervention_Name not in schema.\n",
      "WARNING: During schema-based param purge, Intervention_Name not in schema.\n",
      "WARNING: During schema-based param purge, Intervention_Name not in schema.\n",
      "WARNING: During schema-based param purge, Intervention_Name not in schema.\n",
      "WARNING: During schema-based param purge, Intervention_Name not in schema.\n",
      "WARNING: During schema-based param purge, Intervention_Name not in schema.\n",
      "Campaign is publishing the following events:\n",
      "CaughtNonHIVSTI\n",
      "CSW_Dropout\n",
      "CSW_Uptake\n",
      "Campaign is listening to the following events:\n",
      "CSW_Uptake\n",
      "CSW_Dropout\n",
      "STIDebut\n",
      "Campaign is IGNORING the following events:\n",
      "CaughtNonHIVSTI\n",
      "Campaign is LISTENING to the following non-campaign events:\n",
      "STIDebut\n",
      "Campaign builder save returned campaign.json as file.\n",
      "Found adhoc events in campaign. Needs some special processing behind the scenes.\n",
      "\n",
      "The created experiment can be viewed at https://comps.idmod.org/#explore/Simulations?filters=ExperimentId=eeee7761-cd26-ec11-9ecd-9440c9bee941\n",
      "Simulations are still being created\n",
      "\n"
     ]
    },
    {
     "name": "stderr",
     "output_type": "stream",
     "text": [
      "\r",
      "Initializing objects for creation: 0simulation [00:00, ?simulation/s]"
     ]
    },
    {
     "name": "stdout",
     "output_type": "stream",
     "text": [
      "WARNING: During schema-based param purge, Intervention_Name not in schema.\n",
      "WARNING: During schema-based param purge, Intervention_Name not in schema.\n",
      "WARNING: During schema-based param purge, Intervention_Name not in schema.\n",
      "WARNING: During schema-based param purge, Intervention_Name not in schema.\n",
      "WARNING: During schema-based param purge, Intervention_Name not in schema.\n",
      "WARNING: During schema-based param purge, Intervention_Name not in schema.\n",
      "WARNING: During schema-based param purge, Intervention_Name not in schema.\n",
      "Campaign is publishing the following events:\n",
      "CaughtNonHIVSTI\n",
      "CSW_Dropout\n",
      "CSW_Uptake\n",
      "Campaign is listening to the following events:\n",
      "CSW_Uptake\n",
      "CSW_Dropout\n",
      "STIDebut\n",
      "Campaign is IGNORING the following events:\n",
      "CaughtNonHIVSTI\n",
      "Campaign is LISTENING to the following non-campaign events:\n",
      "STIDebut\n",
      "Campaign builder save returned campaign.json as file.\n"
     ]
    },
    {
     "name": "stderr",
     "output_type": "stream",
     "text": [
      "Creating Simulations on Comps: 100%|██████████| 1/1 [00:00<00:00, 13.21simulation/s]    \n"
     ]
    },
    {
     "name": "stdout",
     "output_type": "stream",
     "text": [
      "Found adhoc events in campaign. Needs some special processing behind the scenes.\n",
      "WARNING: During schema-based param purge, Enable_Continuous_Log_Flushing not in schema.\n",
      "WARNING: During schema-based param purge, logLevel_default not in schema.\n",
      "WARNING: During schema-based param purge, Disable_IP_Whitelist not in schema.\n"
     ]
    },
    {
     "name": "stderr",
     "output_type": "stream",
     "text": [
      "Waiting on Experiment HIV Rakai Simpler CoC to Finish running: 100%|██████████| 1/1 [00:51<00:00, 51.47s/simulation]\n"
     ]
    }
   ],
   "source": [
    "def build_camp( art_coverage = 1.0 ):\n",
    "    \"\"\"\n",
    "        Build a campaign input file for the DTK using emod_api type functions or helpers from this module. \n",
    "        Note that 'camp' is short for 'campaign'.\n",
    "        You can name this function whatever you want, it just has to match what you pass in from_default2.\n",
    "    \"\"\"\n",
    "\n",
    "    # Setup\n",
    "    import emod_api.campaign as camp\n",
    "    camp.set_schema( manifest.schema_file )\n",
    "\n",
    "    def timestep_from_year( year ):\n",
    "        return (year-params.base_year)*365\n",
    "\n",
    "    # Crudely seed the infection\n",
    "    event = ob.seed_infections( camp, start_day=timestep_from_year( 1961.5 ) )\n",
    "    camp.add( event )\n",
    "    add_sti_coinfection_complex(camp, ck.STI_Low_Risk_Coverage, ck.STI_Med_Risk_Coverage, ck.STI_High_Risk_Coverage)\n",
    "    add_csw( camp )\n",
    "\n",
    "    return camp\n",
    "\n",
    "task = EMODTask.from_default2(config_path=\"config.json\", eradication_path=manifest.eradication_path, campaign_builder=build_camp, demog_builder=build_demog, schema_path=manifest.schema_file, param_custom_cb=set_param_fn, ep4_custom_cb=None)\n",
    "experiment  = Experiment.from_builder(builder, task, name=params.exp_name) \n",
    "experiment.run(wait_until_done=True, platform=platform)"
   ]
  },
  {
   "cell_type": "code",
   "execution_count": 19,
   "id": "4c1fa9a8",
   "metadata": {},
   "outputs": [
    {
     "name": "stdout",
     "output_type": "stream",
     "text": [
      "\n",
      "[Calculon]\n",
      "{\n",
      "   \"endpoint\": \"https://comps.idmod.org\",\n",
      "   \"environment\": \"Calculon\"\n",
      "}\n",
      "Attempting to download ['output/InsetChart.json'] for experiment eeee7761cd26ec119ecd9440c9bee941 into COMPS_output_downloads.\n",
      "Creating Watcher\n",
      "\n",
      "The running WorkItem can be viewed at https://comps.idmod.org/#explore/WorkItems?filters=Id=1f5f6d7e-cd26-ec11-9ecd-9440c9bee941\n",
      "\n"
     ]
    },
    {
     "name": "stderr",
     "output_type": "stream",
     "text": [
      "Waiting on WorkItem Filter outputs for Experiment eeee7761-cd26-ec11-9ecd-9440c9bee941: 100%|██████████| 1/1 [00:10<00:00, 10.13s/workitem]\n",
      "Downloading Files: 100%|██████████| 59.5k/59.5k [00:00<00:00, 1.20MB/s]"
     ]
    },
    {
     "name": "stdout",
     "output_type": "stream",
     "text": [
      "Removing COMPS_output_downloads/output.zip\n",
      "Deleting workitem 1f5f6d7e-cd26-ec11-9ecd-9440c9bee941\n"
     ]
    },
    {
     "name": "stderr",
     "output_type": "stream",
     "text": [
      "\n"
     ]
    },
    {
     "data": {
      "text/plain": [
       "[<matplotlib.lines.Line2D at 0x7f6741398438>]"
      ]
     },
     "execution_count": 19,
     "metadata": {},
     "output_type": "execute_result"
    },
    {
     "data": {
      "image/png": "[encoded data removed]",
      "text/plain": [
       "<Figure size 432x288 with 1 Axes>"
      ]
     },
     "metadata": {
      "needs_background": "light"
     },
     "output_type": "display_data"
    }
   ],
   "source": [
    "download( experiment.uid.hex, manifest.output_dl_folder, manifest.output_files_to_get )\n",
    "subdir = os.listdir(manifest.output_dl_folder)[-1] # get the most recent\n",
    "hiv_prev = json.load( open( manifest.output_dl_folder + \"/\" + subdir + \"/\" + \"output/InsetChart.json\" ) )[\"Channels\"][\"Infected\"][\"Data\"]\n",
    "plt.plot( hiv_prev_baseline )\n",
    "plt.plot( hiv_prev )"
   ]
  },
  {
   "cell_type": "markdown",
   "id": "8650574e",
   "metadata": {},
   "source": [
    "Now we're going to set up ART distribution based on data. First, we're going to put a subset of people who get infected into an identifiable \"Positive Status Known\" state, approximating the results of the various means by which people get tested and get their results."
   ]
  },
  {
   "cell_type": "code",
   "execution_count": 20,
   "id": "26e68ef9",
   "metadata": {},
   "outputs": [],
   "source": [
    "def _distribute_psk_tracker_by_age_and_sex( camp, min_age, max_age, sex, tvmap ):\n",
    "    \"\"\"\n",
    "    Internal function to do the 'dirty work' to support 'add_pos_status_known_tracker'.\n",
    "    \"\"\"\n",
    "    # First, give everyone who enters the HIV Latent stage a property that lets \n",
    "    # us target them with a \"Faux Tested\" intervention AND property.\n",
    "    import emodpy_hiv.interventions.reftracker as reftracker\n",
    "    # Listen for LatentStage events and set PositiveStatus\n",
    "    pvc_psk = comm.PropertyValueChanger( camp, Target_Property_Key=\"TestingStatus\", Target_Property_Value=\"ELIGIBLE\", New_Property_Value=\"\" )\n",
    "    add_triggered_event( camp, in_trigger=\"HIVInfectionStageEnteredLatent\", out_iv=pvc_psk, event_name=\"Set Eligible for Pos Status Known\" )\n",
    "\n",
    "    # Now, here's what we're going to do...\n",
    "    # 1) Give out something like the above, that triggers off of HIVInfectionStageEnteredLatent and set an IP for targeting.\n",
    "    # 2) Give out a ref tracker that filters on the target IP above but distributes a Placebo/MedicalRecord with the name \"PositiveStatusKnown\" or something. This also sets an IP InterventionStatus:ARTEligible or something nasty. The placebo can be a delay or no-effect vaccine or something for now.\n",
    "    status_known_medrec = comm.HSB( camp, Tendency=0, Name=\"PositiveStatusKnown\" )\n",
    "    status_known_medrec.New_Property_Value=ART_eligible_tag # Placeholder for \"InterventionStatus:ARTEligible\n",
    "    event = reftracker.DistributeIVByRefTrack( camp, Start_Day=1, Intervention=status_known_medrec, TVMap=tvmap, Property_Restrictions=\"TestingStatus:ELIGIBLE\", Target_Age_Min=min_age, Target_Age_Max=max_age, Target_Gender=sex )\n",
    "    camp.add( event )\n",
    "\n",
    "\n",
    "def add_pos_status_known_tracker( camp ):\n",
    "    \"\"\"\n",
    "    Put some subset of people who have entered latent infection stage into \"Positive status known\" 'state',\n",
    "    which makes them ART-eligible. Drive this from data instead of creating a complex cascade that\n",
    "    uses actually testing, etc. These coverages can vary by age group, sex, and simulation date.\n",
    "    \"\"\"\n",
    "    tvmap = { \"1962\": 0.5, 1963: 0.6, 1964: 0.7 } # just some simple test version\n",
    "    # tvmap = { \"1962\": 0.99, 1963: 0.99, 1964: 0.99 } # almost everyone\n",
    "    _distribute_psk_tracker_by_age_and_sex( camp, ck.PSK_Male_Age_Lower_Bound, ck.PSK_Male_Age_Upper_Bound, \"Male\", tvmap )\n",
    "    _distribute_psk_tracker_by_age_and_sex( camp, ck.PSK_Female_Age_Lower_Bound, ck.PSK_Female_Age_Upper_Bound, \"Female\", tvmap )\n"
   ]
  },
  {
   "cell_type": "code",
   "execution_count": 21,
   "id": "d2dda52b",
   "metadata": {},
   "outputs": [
    {
     "name": "stdout",
     "output_type": "stream",
     "text": [
      "Wrote 'default_config.json' file.\n",
      "DEBUG: write_config_from_default_and_params invoked with default_config.json, <function set_param_fn at 0x7f674245b598>.\n",
      "DEBUG: Calling load_default_config_as_rod.\n",
      "DEBUG: Calling set_fn.\n",
      "Fertility data file column names are ountry, NA, ID, Nothing, AreaCode, Years, 15-19, 20-24, 25-29, 30-34, 35-39, 40-45, 45-49\n",
      "Found 15 rows of fertility data.\n",
      "Generating demographics file demographics.json.\n",
      "WARNING: During schema-based param purge, Intervention_Name not in schema.\n",
      "WARNING: During schema-based param purge, Intervention_Name not in schema.\n",
      "WARNING: During schema-based param purge, Intervention_Name not in schema.\n",
      "WARNING: During schema-based param purge, Intervention_Name not in schema.\n",
      "WARNING: During schema-based param purge, Intervention_Name not in schema.\n",
      "WARNING: During schema-based param purge, Intervention_Name not in schema.\n",
      "WARNING: During schema-based param purge, Intervention_Name not in schema.\n",
      "Campaign is publishing the following events:\n",
      "CaughtNonHIVSTI\n",
      "CSW_Dropout\n",
      "NoTrigger\n",
      "CSW_Uptake\n",
      "Campaign is listening to the following events:\n",
      "CSW_Uptake\n",
      "CSW_Dropout\n",
      "STIDebut\n",
      "HIVInfectionStageEnteredLatent\n",
      "Campaign is IGNORING the following events:\n",
      "CaughtNonHIVSTI\n",
      "NoTrigger\n",
      "Campaign is LISTENING to the following non-campaign events:\n",
      "HIVInfectionStageEnteredLatent\n",
      "STIDebut\n",
      "Campaign builder save returned campaign.json as file.\n",
      "Found adhoc events in campaign. Needs some special processing behind the scenes.\n",
      "\n",
      "The created experiment can be viewed at https://comps.idmod.org/#explore/Simulations?filters=ExperimentId=90f2a89f-cd26-ec11-9ecd-9440c9bee941\n",
      "Simulations are still being created\n",
      "\n"
     ]
    },
    {
     "name": "stderr",
     "output_type": "stream",
     "text": [
      "\r",
      "Initializing objects for creation: 0simulation [00:00, ?simulation/s]"
     ]
    },
    {
     "name": "stdout",
     "output_type": "stream",
     "text": [
      "WARNING: During schema-based param purge, Intervention_Name not in schema.\n",
      "WARNING: During schema-based param purge, Intervention_Name not in schema.\n",
      "WARNING: During schema-based param purge, Intervention_Name not in schema.\n",
      "WARNING: During schema-based param purge, Intervention_Name not in schema.\n",
      "WARNING: During schema-based param purge, Intervention_Name not in schema.\n",
      "WARNING: During schema-based param purge, Intervention_Name not in schema.\n",
      "WARNING: During schema-based param purge, Intervention_Name not in schema.\n",
      "Campaign is publishing the following events:\n",
      "CaughtNonHIVSTI\n",
      "CSW_Dropout\n",
      "NoTrigger\n",
      "CSW_Uptake\n",
      "Campaign is listening to the following events:\n",
      "CSW_Uptake\n",
      "CSW_Dropout\n",
      "STIDebut\n",
      "HIVInfectionStageEnteredLatent\n",
      "Campaign is IGNORING the following events:\n",
      "CaughtNonHIVSTI\n",
      "NoTrigger\n",
      "Campaign is LISTENING to the following non-campaign events:\n",
      "HIVInfectionStageEnteredLatent\n",
      "STIDebut\n",
      "Campaign builder save returned campaign.json as file.\n"
     ]
    },
    {
     "name": "stderr",
     "output_type": "stream",
     "text": [
      "Creating Simulations on Comps: 100%|██████████| 1/1 [00:00<00:00, 15.05simulation/s]    \n"
     ]
    },
    {
     "name": "stdout",
     "output_type": "stream",
     "text": [
      "Found adhoc events in campaign. Needs some special processing behind the scenes.\n",
      "WARNING: During schema-based param purge, Enable_Continuous_Log_Flushing not in schema.\n",
      "WARNING: During schema-based param purge, logLevel_default not in schema.\n",
      "WARNING: During schema-based param purge, Disable_IP_Whitelist not in schema.\n"
     ]
    },
    {
     "name": "stderr",
     "output_type": "stream",
     "text": [
      "Waiting on Experiment HIV Rakai Simpler CoC to Finish running: 100%|██████████| 1/1 [00:40<00:00, 40.78s/simulation]\n"
     ]
    }
   ],
   "source": [
    "def build_camp( art_coverage = 1.0 ):\n",
    "    \"\"\"\n",
    "        Build a campaign input file for the DTK using emod_api type functions or helpers from this module. \n",
    "        Note that 'camp' is short for 'campaign'.\n",
    "        You can name this function whatever you want, it just has to match what you pass in from_default2.\n",
    "    \"\"\"\n",
    "\n",
    "    # Setup\n",
    "    import emod_api.campaign as camp\n",
    "    camp.set_schema( manifest.schema_file )\n",
    "\n",
    "    def timestep_from_year( year ):\n",
    "        return (year-params.base_year)*365\n",
    "\n",
    "    # Crudely seed the infection\n",
    "    event = ob.seed_infections( camp, start_day=timestep_from_year( 1961.5 ) )\n",
    "    camp.add( event )\n",
    "    add_sti_coinfection_complex(camp, ck.STI_Low_Risk_Coverage, ck.STI_Med_Risk_Coverage, ck.STI_High_Risk_Coverage)\n",
    "    add_csw( camp )\n",
    "    add_pos_status_known_tracker( camp )\n",
    "\n",
    "    return camp\n",
    "\n",
    "task = EMODTask.from_default2(config_path=\"config.json\", eradication_path=manifest.eradication_path, campaign_builder=build_camp, demog_builder=build_demog, schema_path=manifest.schema_file, param_custom_cb=set_param_fn, ep4_custom_cb=None)\n",
    "experiment  = Experiment.from_builder(builder, task, name=params.exp_name) \n",
    "experiment.run(wait_until_done=True, platform=platform)"
   ]
  },
  {
   "cell_type": "markdown",
   "id": "297aa7f5",
   "metadata": {},
   "source": [
    "The code above gives certain people a 'tracker' via individual properties. Therefore, to observe the effect we must generate a property report.\n",
    "\n",
    "What we do next is actually distribute ART using the above tracker. We can select some percentage of people with the \"Positive Status Known\" property to receive ART."
   ]
  },
  {
   "cell_type": "code",
   "execution_count": 22,
   "id": "96826d81",
   "metadata": {},
   "outputs": [],
   "source": [
    "def _distribute_art_by_ref_counter_by_age_and_sex( camp, art_coverage, min_age, max_age, sex, tvmap ):\n",
    "    \"\"\"\n",
    "    Internal utility function to do the 'dirty work' to support distribute_art_by_ref_counter for a given\n",
    "    min_age, max_age, and sex. art_coverage is simply for a demonstration campaign sweep.\n",
    "    \"\"\"\n",
    "    import emodpy_hiv.interventions.reftracker as reftracker\n",
    "    import emodpy_hiv.interventions.art as art\n",
    "    new_art = art.new_intervention( camp )\n",
    "    delayed_dropout_iv = hiv_utils.broadcast_event_delayed( camp, \"ARTDropout\", delay={ \"Delay_Period\": ck.ART_Duration } ) # make this duration a bit more sophisticated\n",
    "    iv_tracking_name = None #\"ART for \" + sex + \"s\"\n",
    "    # Old way of doing ART is ARTBasic + Delay->ARTDropout\n",
    "\n",
    "    event = reftracker.DistributeIVByRefTrack( camp, Start_Day=1, Intervention=[new_art, delayed_dropout_iv], TVMap=tvmap, Property_Restrictions=ART_eligible_tag, Target_Gender=sex, Target_Age_Min=min_age, Target_Age_Max=max_age, IV_Tracking_Name=iv_tracking_name )\n",
    "    camp.add( event )\n",
    "\n",
    "\n",
    "def distribute_art_by_ref_counter( camp, art_coverage ):\n",
    "    \"\"\"\n",
    "    For the ART:\n",
    "    3) Give out a ref tracker that filters on the target IP InterventionStatus:ARTEligible and distributes ART.\n",
    "    \"\"\"\n",
    "    #tvmap = { \"1970\": art_coverage/10, 1976: art_coverage/2, 1983: art_coverage }\n",
    "    tvmap = { \"1972\": art_coverage/10, 1978: art_coverage/2, 1985: art_coverage }\n",
    "    _distribute_art_by_ref_counter_by_age_and_sex( camp, art_coverage, ck.ART_Male_Age_Lower_Bound, ck.ART_Male_Age_Upper_Bound, \"Male\", tvmap )\n",
    "    _distribute_art_by_ref_counter_by_age_and_sex( camp, art_coverage, ck.ART_Female_Age_Lower_Bound, ck.ART_Female_Age_Upper_Bound, \"Female\", tvmap )"
   ]
  },
  {
   "cell_type": "code",
   "execution_count": 23,
   "id": "86d29b7c",
   "metadata": {},
   "outputs": [
    {
     "name": "stdout",
     "output_type": "stream",
     "text": [
      "Wrote 'default_config.json' file.\n",
      "DEBUG: write_config_from_default_and_params invoked with default_config.json, <function set_param_fn at 0x7f674245b598>.\n",
      "DEBUG: Calling load_default_config_as_rod.\n",
      "DEBUG: Calling set_fn.\n",
      "Fertility data file column names are ountry, NA, ID, Nothing, AreaCode, Years, 15-19, 20-24, 25-29, 30-34, 35-39, 40-45, 45-49\n",
      "Found 15 rows of fertility data.\n",
      "Generating demographics file demographics.json.\n",
      "WARNING: During schema-based param purge, Intervention_Name not in schema.\n",
      "WARNING: During schema-based param purge, Intervention_Name not in schema.\n",
      "WARNING: During schema-based param purge, Intervention_Name not in schema.\n",
      "WARNING: During schema-based param purge, Intervention_Name not in schema.\n",
      "WARNING: During schema-based param purge, Intervention_Name not in schema.\n",
      "WARNING: During schema-based param purge, Intervention_Name not in schema.\n",
      "WARNING: During schema-based param purge, Intervention_Name not in schema.\n",
      "Campaign is publishing the following events:\n",
      "CaughtNonHIVSTI\n",
      "ARTDropout\n",
      "CSW_Dropout\n",
      "CSW_Uptake\n",
      "NoTrigger\n",
      "Campaign is listening to the following events:\n",
      "CSW_Uptake\n",
      "CSW_Dropout\n",
      "STIDebut\n",
      "HIVInfectionStageEnteredLatent\n",
      "Campaign is IGNORING the following events:\n",
      "CaughtNonHIVSTI\n",
      "NoTrigger\n",
      "ARTDropout\n",
      "Campaign is LISTENING to the following non-campaign events:\n",
      "HIVInfectionStageEnteredLatent\n",
      "STIDebut\n",
      "Campaign builder save returned campaign.json as file.\n",
      "Found adhoc events in campaign. Needs some special processing behind the scenes.\n",
      "\n",
      "The created experiment can be viewed at https://comps.idmod.org/#explore/Simulations?filters=ExperimentId=4739c9b7-cd26-ec11-9ecd-9440c9bee941\n",
      "Simulations are still being created\n",
      "\n"
     ]
    },
    {
     "name": "stderr",
     "output_type": "stream",
     "text": [
      "\r",
      "Initializing objects for creation: 0simulation [00:00, ?simulation/s]"
     ]
    },
    {
     "name": "stdout",
     "output_type": "stream",
     "text": [
      "WARNING: During schema-based param purge, Intervention_Name not in schema.\n",
      "WARNING: During schema-based param purge, Intervention_Name not in schema.\n",
      "WARNING: During schema-based param purge, Intervention_Name not in schema.\n",
      "WARNING: During schema-based param purge, Intervention_Name not in schema.\n",
      "WARNING: During schema-based param purge, Intervention_Name not in schema.\n",
      "WARNING: During schema-based param purge, Intervention_Name not in schema.\n",
      "WARNING: During schema-based param purge, Intervention_Name not in schema.\n",
      "Campaign is publishing the following events:\n",
      "CaughtNonHIVSTI\n",
      "ARTDropout\n",
      "CSW_Dropout\n",
      "CSW_Uptake\n",
      "NoTrigger\n",
      "Campaign is listening to the following events:\n",
      "CSW_Uptake\n",
      "CSW_Dropout\n",
      "STIDebut\n",
      "HIVInfectionStageEnteredLatent\n",
      "Campaign is IGNORING the following events:\n",
      "CaughtNonHIVSTI\n",
      "NoTrigger\n",
      "ARTDropout\n",
      "Campaign is LISTENING to the following non-campaign events:\n",
      "HIVInfectionStageEnteredLatent\n",
      "STIDebut\n",
      "Campaign builder save returned campaign.json as file.\n"
     ]
    },
    {
     "name": "stderr",
     "output_type": "stream",
     "text": [
      "Creating Simulations on Comps: 100%|██████████| 1/1 [00:00<00:00,  6.79simulation/s]    "
     ]
    },
    {
     "name": "stdout",
     "output_type": "stream",
     "text": [
      "Found adhoc events in campaign. Needs some special processing behind the scenes.\n",
      "WARNING: During schema-based param purge, Enable_Continuous_Log_Flushing not in schema.\n",
      "WARNING: During schema-based param purge, logLevel_default not in schema.\n",
      "WARNING: During schema-based param purge, Disable_IP_Whitelist not in schema.\n"
     ]
    },
    {
     "name": "stderr",
     "output_type": "stream",
     "text": [
      "\n",
      "Waiting on Experiment HIV Rakai Simpler CoC to Finish running: 100%|██████████| 1/1 [01:02<00:00, 62.16s/simulation]\n"
     ]
    }
   ],
   "source": [
    "def build_camp( art_coverage = 1.0 ):\n",
    "    \"\"\"\n",
    "        Build a campaign input file for the DTK using emod_api type functions or helpers from this module. \n",
    "        Note that 'camp' is short for 'campaign'.\n",
    "        You can name this function whatever you want, it just has to match what you pass in from_default2.\n",
    "    \"\"\"\n",
    "\n",
    "    # Setup\n",
    "    import emod_api.campaign as camp\n",
    "    camp.set_schema( manifest.schema_file )\n",
    "\n",
    "    def timestep_from_year( year ):\n",
    "        return (year-params.base_year)*365\n",
    "\n",
    "    # Crudely seed the infection\n",
    "    event = ob.seed_infections( camp, start_day=timestep_from_year( 1961.5 ) )\n",
    "    camp.add( event )\n",
    "\n",
    "    add_sti_coinfection_complex(camp, ck.STI_Low_Risk_Coverage, ck.STI_Med_Risk_Coverage, ck.STI_High_Risk_Coverage)\n",
    "    add_csw( camp )\n",
    "    add_pos_status_known_tracker( camp )\n",
    "    distribute_art_by_ref_counter( camp, art_coverage=1.0  )\n",
    "    return camp\n",
    "\n",
    "task = EMODTask.from_default2(config_path=\"config.json\", eradication_path=manifest.eradication_path, campaign_builder=build_camp, demog_builder=build_demog, schema_path=manifest.schema_file, param_custom_cb=set_param_fn, ep4_custom_cb=None)\n",
    "experiment  = Experiment.from_builder(builder, task, name=params.exp_name) \n",
    "experiment.run(wait_until_done=True, platform=platform)"
   ]
  },
  {
   "cell_type": "code",
   "execution_count": 24,
   "id": "6637b791",
   "metadata": {},
   "outputs": [
    {
     "name": "stdout",
     "output_type": "stream",
     "text": [
      "\n",
      "[Calculon]\n",
      "{\n",
      "   \"endpoint\": \"https://comps.idmod.org\",\n",
      "   \"environment\": \"Calculon\"\n",
      "}\n",
      "Attempting to download ['output/InsetChart.json'] for experiment 4739c9b7cd26ec119ecd9440c9bee941 into COMPS_output_downloads.\n",
      "Creating Watcher\n",
      "\n",
      "The running WorkItem can be viewed at https://comps.idmod.org/#explore/WorkItems?filters=Id=3246fcdc-cd26-ec11-9ecd-9440c9bee941\n",
      "\n"
     ]
    },
    {
     "name": "stderr",
     "output_type": "stream",
     "text": [
      "Waiting on WorkItem Filter outputs for Experiment 4739c9b7-cd26-ec11-9ecd-9440c9bee941: 100%|██████████| 1/1 [00:05<00:00,  5.08s/workitem]\n",
      "Downloading Files: 100%|██████████| 62.4k/62.4k [00:00<00:00, 1.15MB/s]"
     ]
    },
    {
     "name": "stdout",
     "output_type": "stream",
     "text": [
      "Removing COMPS_output_downloads/output.zip\n",
      "Deleting workitem 3246fcdc-cd26-ec11-9ecd-9440c9bee941\n"
     ]
    },
    {
     "name": "stderr",
     "output_type": "stream",
     "text": [
      "\n"
     ]
    },
    {
     "data": {
      "text/plain": [
       "[<matplotlib.lines.Line2D at 0x7f677277cac8>]"
      ]
     },
     "execution_count": 24,
     "metadata": {},
     "output_type": "execute_result"
    },
    {
     "data": {
      "image/png": "[encoded data removed]",
      "text/plain": [
       "<Figure size 432x288 with 1 Axes>"
      ]
     },
     "metadata": {
      "needs_background": "light"
     },
     "output_type": "display_data"
    }
   ],
   "source": [
    "download( experiment.uid.hex, manifest.output_dl_folder, manifest.output_files_to_get )\n",
    "subdir = os.listdir(manifest.output_dl_folder)[-1] # get the most recent\n",
    "hiv_prev_prev = hiv_prev\n",
    "hiv_prev = json.load( open( manifest.output_dl_folder + \"/\" + subdir + \"/\" + \"output/InsetChart.json\" ) )[\"Channels\"][\"Infected\"][\"Data\"]\n",
    "plt.plot( hiv_prev_prev )\n",
    "plt.plot( hiv_prev )"
   ]
  },
  {
   "cell_type": "markdown",
   "id": "dc6984e8",
   "metadata": {},
   "source": [
    "The orange curve shows how over time ART distribution bent the prevalence curve (blue is from previous run with STI co-infection and CSWs)."
   ]
  }
 ],
 "metadata": {
  "kernelspec": {
   "display_name": "Python 3",
   "language": "python",
   "name": "python3"
  },
  "language_info": {
   "codemirror_mode": {
    "name": "ipython",
    "version": 3
   },
   "file_extension": ".py",
   "mimetype": "text/x-python",
   "name": "python",
   "nbconvert_exporter": "python",
   "pygments_lexer": "ipython3",
   "version": "3.6.8"
  }
 },
 "nbformat": 4,
 "nbformat_minor": 5
}
